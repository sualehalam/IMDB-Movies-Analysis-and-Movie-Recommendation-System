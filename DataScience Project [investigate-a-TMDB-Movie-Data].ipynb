{
 "cells": [
  {
   "cell_type": "markdown",
   "metadata": {},
   "source": [
    "# Project: TMDB Movie Data Analysis\n",
    "\n",
    "## Table of Contents\n",
    "<ul>\n",
    "<li><a href=\"#intro\">Introduction</a></li>\n",
    "<li><a href=\"#wrangling\">Data Wrangling</a></li>\n",
    "<li><a href=\"#eda\">Exploratory Data Analysis</a></li>\n",
    "<li><a href=\"#reg\">Linear Regression Models</a></li>\n",
    "<li><a href=\"#rec\">Movie Recommendation System</a></li>\n",
    "<li><a href=\"#word\">WordCloud Generation</a></li>    \n",
    "<li><a href=\"#conclusions\">Conclusions</a></li>\n",
    "</ul>"
   ]
  },
  {
   "cell_type": "markdown",
   "metadata": {},
   "source": [
    "<a id='intro'></a>\n",
    "## Introduction\n",
    "\n",
    "> I am a movie enthusiast which is why I have chosen this TMDB Data for Analysis purpose which contains information about 10,000 movies collected from the The Movie DataBase (TMDB). Now I will be analyzing this dataset to learn more and more about different movies, about their budgets, revenues, directors and many other things.\n",
    "\n",
    "> ## Questions for Analysis\n",
    "     - What were the Top 5 Genres throughout the years?\n",
    "     - How did the amount of movies produced changed over time?\n",
    "     - What is the Average Running Time Of All the Movies?\n",
    "     - How does the budget change throughout the years?\n",
    "     - What should be an appropriate budget for a movie to succeed?\n",
    ">\n"
   ]
  },
  {
   "cell_type": "code",
   "execution_count": 1,
   "metadata": {},
   "outputs": [],
   "source": [
    "# Loading all necessary libraries to use in this investigation of dataset\n",
    "\n",
    "import pandas as pd\n",
    "import numpy as np\n",
    "import seaborn as sns\n",
    "import matplotlib.pyplot as plt\n",
    "%matplotlib inline"
   ]
  },
  {
   "cell_type": "markdown",
   "metadata": {},
   "source": [
    "<a id='wrangling'></a>\n",
    "## Data Wrangling\n",
    "\n",
    ">  In this section of the report, I will load in the data, check for cleanliness, and then trim and clean the dataset for analysis.\n",
    "\n",
    "### General Properties"
   ]
  },
  {
   "cell_type": "code",
   "execution_count": 2,
   "metadata": {},
   "outputs": [
    {
     "name": "stdout",
     "output_type": "stream",
     "text": [
      "(10866, 21)\n"
     ]
    }
   ],
   "source": [
    "# Loading the data from a csv file to a Pandas dataframe\n",
    "df = pd.read_csv('tmdb-movies.csv')\n",
    "\n",
    "# Using .shape function to find out the number of rows and columns of the dataset\n",
    "print(df.shape)"
   ]
  },
  {
   "cell_type": "code",
   "execution_count": 5,
   "metadata": {
    "scrolled": true
   },
   "outputs": [
    {
     "data": {
      "text/html": [
       "<div>\n",
       "<style scoped>\n",
       "    .dataframe tbody tr th:only-of-type {\n",
       "        vertical-align: middle;\n",
       "    }\n",
       "\n",
       "    .dataframe tbody tr th {\n",
       "        vertical-align: top;\n",
       "    }\n",
       "\n",
       "    .dataframe thead th {\n",
       "        text-align: right;\n",
       "    }\n",
       "</style>\n",
       "<table border=\"1\" class=\"dataframe\">\n",
       "  <thead>\n",
       "    <tr style=\"text-align: right;\">\n",
       "      <th></th>\n",
       "      <th>id</th>\n",
       "      <th>imdb_id</th>\n",
       "      <th>popularity</th>\n",
       "      <th>budget</th>\n",
       "      <th>revenue</th>\n",
       "      <th>original_title</th>\n",
       "      <th>cast</th>\n",
       "      <th>homepage</th>\n",
       "      <th>director</th>\n",
       "      <th>tagline</th>\n",
       "      <th>...</th>\n",
       "      <th>overview</th>\n",
       "      <th>runtime</th>\n",
       "      <th>genres</th>\n",
       "      <th>production_companies</th>\n",
       "      <th>release_date</th>\n",
       "      <th>vote_count</th>\n",
       "      <th>vote_average</th>\n",
       "      <th>release_year</th>\n",
       "      <th>budget_adj</th>\n",
       "      <th>revenue_adj</th>\n",
       "    </tr>\n",
       "  </thead>\n",
       "  <tbody>\n",
       "    <tr>\n",
       "      <th>0</th>\n",
       "      <td>135397</td>\n",
       "      <td>tt0369610</td>\n",
       "      <td>32.985763</td>\n",
       "      <td>150000000</td>\n",
       "      <td>1513528810</td>\n",
       "      <td>Jurassic World</td>\n",
       "      <td>Chris Pratt|Bryce Dallas Howard|Irrfan Khan|Vi...</td>\n",
       "      <td>http://www.jurassicworld.com/</td>\n",
       "      <td>Colin Trevorrow</td>\n",
       "      <td>The park is open.</td>\n",
       "      <td>...</td>\n",
       "      <td>Twenty-two years after the events of Jurassic ...</td>\n",
       "      <td>124</td>\n",
       "      <td>Action|Adventure|Science Fiction|Thriller</td>\n",
       "      <td>Universal Studios|Amblin Entertainment|Legenda...</td>\n",
       "      <td>6/9/15</td>\n",
       "      <td>5562</td>\n",
       "      <td>6.5</td>\n",
       "      <td>2015</td>\n",
       "      <td>1.379999e+08</td>\n",
       "      <td>1.392446e+09</td>\n",
       "    </tr>\n",
       "    <tr>\n",
       "      <th>1</th>\n",
       "      <td>76341</td>\n",
       "      <td>tt1392190</td>\n",
       "      <td>28.419936</td>\n",
       "      <td>150000000</td>\n",
       "      <td>378436354</td>\n",
       "      <td>Mad Max: Fury Road</td>\n",
       "      <td>Tom Hardy|Charlize Theron|Hugh Keays-Byrne|Nic...</td>\n",
       "      <td>http://www.madmaxmovie.com/</td>\n",
       "      <td>George Miller</td>\n",
       "      <td>What a Lovely Day.</td>\n",
       "      <td>...</td>\n",
       "      <td>An apocalyptic story set in the furthest reach...</td>\n",
       "      <td>120</td>\n",
       "      <td>Action|Adventure|Science Fiction|Thriller</td>\n",
       "      <td>Village Roadshow Pictures|Kennedy Miller Produ...</td>\n",
       "      <td>5/13/15</td>\n",
       "      <td>6185</td>\n",
       "      <td>7.1</td>\n",
       "      <td>2015</td>\n",
       "      <td>1.379999e+08</td>\n",
       "      <td>3.481613e+08</td>\n",
       "    </tr>\n",
       "    <tr>\n",
       "      <th>2</th>\n",
       "      <td>262500</td>\n",
       "      <td>tt2908446</td>\n",
       "      <td>13.112507</td>\n",
       "      <td>110000000</td>\n",
       "      <td>295238201</td>\n",
       "      <td>Insurgent</td>\n",
       "      <td>Shailene Woodley|Theo James|Kate Winslet|Ansel...</td>\n",
       "      <td>http://www.thedivergentseries.movie/#insurgent</td>\n",
       "      <td>Robert Schwentke</td>\n",
       "      <td>One Choice Can Destroy You</td>\n",
       "      <td>...</td>\n",
       "      <td>Beatrice Prior must confront her inner demons ...</td>\n",
       "      <td>119</td>\n",
       "      <td>Adventure|Science Fiction|Thriller</td>\n",
       "      <td>Summit Entertainment|Mandeville Films|Red Wago...</td>\n",
       "      <td>3/18/15</td>\n",
       "      <td>2480</td>\n",
       "      <td>6.3</td>\n",
       "      <td>2015</td>\n",
       "      <td>1.012000e+08</td>\n",
       "      <td>2.716190e+08</td>\n",
       "    </tr>\n",
       "  </tbody>\n",
       "</table>\n",
       "<p>3 rows × 21 columns</p>\n",
       "</div>"
      ],
      "text/plain": [
       "       id    imdb_id  popularity     budget     revenue      original_title  \\\n",
       "0  135397  tt0369610   32.985763  150000000  1513528810      Jurassic World   \n",
       "1   76341  tt1392190   28.419936  150000000   378436354  Mad Max: Fury Road   \n",
       "2  262500  tt2908446   13.112507  110000000   295238201           Insurgent   \n",
       "\n",
       "                                                cast  \\\n",
       "0  Chris Pratt|Bryce Dallas Howard|Irrfan Khan|Vi...   \n",
       "1  Tom Hardy|Charlize Theron|Hugh Keays-Byrne|Nic...   \n",
       "2  Shailene Woodley|Theo James|Kate Winslet|Ansel...   \n",
       "\n",
       "                                         homepage          director  \\\n",
       "0                   http://www.jurassicworld.com/   Colin Trevorrow   \n",
       "1                     http://www.madmaxmovie.com/     George Miller   \n",
       "2  http://www.thedivergentseries.movie/#insurgent  Robert Schwentke   \n",
       "\n",
       "                      tagline  ...  \\\n",
       "0           The park is open.  ...   \n",
       "1          What a Lovely Day.  ...   \n",
       "2  One Choice Can Destroy You  ...   \n",
       "\n",
       "                                            overview runtime  \\\n",
       "0  Twenty-two years after the events of Jurassic ...     124   \n",
       "1  An apocalyptic story set in the furthest reach...     120   \n",
       "2  Beatrice Prior must confront her inner demons ...     119   \n",
       "\n",
       "                                      genres  \\\n",
       "0  Action|Adventure|Science Fiction|Thriller   \n",
       "1  Action|Adventure|Science Fiction|Thriller   \n",
       "2         Adventure|Science Fiction|Thriller   \n",
       "\n",
       "                                production_companies release_date vote_count  \\\n",
       "0  Universal Studios|Amblin Entertainment|Legenda...       6/9/15       5562   \n",
       "1  Village Roadshow Pictures|Kennedy Miller Produ...      5/13/15       6185   \n",
       "2  Summit Entertainment|Mandeville Films|Red Wago...      3/18/15       2480   \n",
       "\n",
       "   vote_average  release_year    budget_adj   revenue_adj  \n",
       "0           6.5          2015  1.379999e+08  1.392446e+09  \n",
       "1           7.1          2015  1.379999e+08  3.481613e+08  \n",
       "2           6.3          2015  1.012000e+08  2.716190e+08  \n",
       "\n",
       "[3 rows x 21 columns]"
      ]
     },
     "execution_count": 5,
     "metadata": {},
     "output_type": "execute_result"
    }
   ],
   "source": [
    "# Displaying a part of the dataset to see the different column names and to brainstorm some questions.\n",
    "df.head(3)"
   ]
  },
  {
   "cell_type": "code",
   "execution_count": 4,
   "metadata": {},
   "outputs": [
    {
     "name": "stdout",
     "output_type": "stream",
     "text": [
      "<class 'pandas.core.frame.DataFrame'>\n",
      "RangeIndex: 10866 entries, 0 to 10865\n",
      "Data columns (total 21 columns):\n",
      " #   Column                Non-Null Count  Dtype  \n",
      "---  ------                --------------  -----  \n",
      " 0   id                    10866 non-null  int64  \n",
      " 1   imdb_id               10856 non-null  object \n",
      " 2   popularity            10866 non-null  float64\n",
      " 3   budget                10866 non-null  int64  \n",
      " 4   revenue               10866 non-null  int64  \n",
      " 5   original_title        10866 non-null  object \n",
      " 6   cast                  10790 non-null  object \n",
      " 7   homepage              2936 non-null   object \n",
      " 8   director              10822 non-null  object \n",
      " 9   tagline               8042 non-null   object \n",
      " 10  keywords              9373 non-null   object \n",
      " 11  overview              10862 non-null  object \n",
      " 12  runtime               10866 non-null  int64  \n",
      " 13  genres                10843 non-null  object \n",
      " 14  production_companies  9836 non-null   object \n",
      " 15  release_date          10866 non-null  object \n",
      " 16  vote_count            10866 non-null  int64  \n",
      " 17  vote_average          10866 non-null  float64\n",
      " 18  release_year          10866 non-null  int64  \n",
      " 19  budget_adj            10866 non-null  float64\n",
      " 20  revenue_adj           10866 non-null  float64\n",
      "dtypes: float64(4), int64(6), object(11)\n",
      "memory usage: 1.7+ MB\n"
     ]
    }
   ],
   "source": [
    "# Using .info() function to find out null values in the dataset and to learn more about the datatypes used in the dataset\n",
    "df.info()"
   ]
  },
  {
   "cell_type": "code",
   "execution_count": 6,
   "metadata": {},
   "outputs": [
    {
     "data": {
      "text/plain": [
       "id                         0\n",
       "imdb_id                   10\n",
       "popularity                 0\n",
       "budget                     0\n",
       "revenue                    0\n",
       "original_title             0\n",
       "cast                      76\n",
       "homepage                7930\n",
       "director                  44\n",
       "tagline                 2824\n",
       "keywords                1493\n",
       "overview                   4\n",
       "runtime                    0\n",
       "genres                    23\n",
       "production_companies    1030\n",
       "release_date               0\n",
       "vote_count                 0\n",
       "vote_average               0\n",
       "release_year               0\n",
       "budget_adj                 0\n",
       "revenue_adj                0\n",
       "dtype: int64"
      ]
     },
     "execution_count": 6,
     "metadata": {},
     "output_type": "execute_result"
    }
   ],
   "source": [
    "# Using .isnull() to find the number of null values in each column and summing them up using .sum() function\n",
    "df.isnull().sum()"
   ]
  },
  {
   "cell_type": "code",
   "execution_count": 7,
   "metadata": {},
   "outputs": [
    {
     "data": {
      "text/html": [
       "<div>\n",
       "<style scoped>\n",
       "    .dataframe tbody tr th:only-of-type {\n",
       "        vertical-align: middle;\n",
       "    }\n",
       "\n",
       "    .dataframe tbody tr th {\n",
       "        vertical-align: top;\n",
       "    }\n",
       "\n",
       "    .dataframe thead th {\n",
       "        text-align: right;\n",
       "    }\n",
       "</style>\n",
       "<table border=\"1\" class=\"dataframe\">\n",
       "  <thead>\n",
       "    <tr style=\"text-align: right;\">\n",
       "      <th></th>\n",
       "      <th>id</th>\n",
       "      <th>popularity</th>\n",
       "      <th>budget</th>\n",
       "      <th>revenue</th>\n",
       "      <th>runtime</th>\n",
       "      <th>vote_count</th>\n",
       "      <th>vote_average</th>\n",
       "      <th>release_year</th>\n",
       "      <th>budget_adj</th>\n",
       "      <th>revenue_adj</th>\n",
       "    </tr>\n",
       "  </thead>\n",
       "  <tbody>\n",
       "    <tr>\n",
       "      <th>count</th>\n",
       "      <td>10866.000000</td>\n",
       "      <td>10866.000000</td>\n",
       "      <td>1.086600e+04</td>\n",
       "      <td>1.086600e+04</td>\n",
       "      <td>10866.000000</td>\n",
       "      <td>10866.000000</td>\n",
       "      <td>10866.000000</td>\n",
       "      <td>10866.000000</td>\n",
       "      <td>1.086600e+04</td>\n",
       "      <td>1.086600e+04</td>\n",
       "    </tr>\n",
       "    <tr>\n",
       "      <th>mean</th>\n",
       "      <td>66064.177434</td>\n",
       "      <td>0.646441</td>\n",
       "      <td>1.462570e+07</td>\n",
       "      <td>3.982332e+07</td>\n",
       "      <td>102.070863</td>\n",
       "      <td>217.389748</td>\n",
       "      <td>5.974922</td>\n",
       "      <td>2001.322658</td>\n",
       "      <td>1.755104e+07</td>\n",
       "      <td>5.136436e+07</td>\n",
       "    </tr>\n",
       "    <tr>\n",
       "      <th>std</th>\n",
       "      <td>92130.136561</td>\n",
       "      <td>1.000185</td>\n",
       "      <td>3.091321e+07</td>\n",
       "      <td>1.170035e+08</td>\n",
       "      <td>31.381405</td>\n",
       "      <td>575.619058</td>\n",
       "      <td>0.935142</td>\n",
       "      <td>12.812941</td>\n",
       "      <td>3.430616e+07</td>\n",
       "      <td>1.446325e+08</td>\n",
       "    </tr>\n",
       "    <tr>\n",
       "      <th>min</th>\n",
       "      <td>5.000000</td>\n",
       "      <td>0.000065</td>\n",
       "      <td>0.000000e+00</td>\n",
       "      <td>0.000000e+00</td>\n",
       "      <td>0.000000</td>\n",
       "      <td>10.000000</td>\n",
       "      <td>1.500000</td>\n",
       "      <td>1960.000000</td>\n",
       "      <td>0.000000e+00</td>\n",
       "      <td>0.000000e+00</td>\n",
       "    </tr>\n",
       "    <tr>\n",
       "      <th>25%</th>\n",
       "      <td>10596.250000</td>\n",
       "      <td>0.207583</td>\n",
       "      <td>0.000000e+00</td>\n",
       "      <td>0.000000e+00</td>\n",
       "      <td>90.000000</td>\n",
       "      <td>17.000000</td>\n",
       "      <td>5.400000</td>\n",
       "      <td>1995.000000</td>\n",
       "      <td>0.000000e+00</td>\n",
       "      <td>0.000000e+00</td>\n",
       "    </tr>\n",
       "    <tr>\n",
       "      <th>50%</th>\n",
       "      <td>20669.000000</td>\n",
       "      <td>0.383856</td>\n",
       "      <td>0.000000e+00</td>\n",
       "      <td>0.000000e+00</td>\n",
       "      <td>99.000000</td>\n",
       "      <td>38.000000</td>\n",
       "      <td>6.000000</td>\n",
       "      <td>2006.000000</td>\n",
       "      <td>0.000000e+00</td>\n",
       "      <td>0.000000e+00</td>\n",
       "    </tr>\n",
       "    <tr>\n",
       "      <th>75%</th>\n",
       "      <td>75610.000000</td>\n",
       "      <td>0.713817</td>\n",
       "      <td>1.500000e+07</td>\n",
       "      <td>2.400000e+07</td>\n",
       "      <td>111.000000</td>\n",
       "      <td>145.750000</td>\n",
       "      <td>6.600000</td>\n",
       "      <td>2011.000000</td>\n",
       "      <td>2.085325e+07</td>\n",
       "      <td>3.369710e+07</td>\n",
       "    </tr>\n",
       "    <tr>\n",
       "      <th>max</th>\n",
       "      <td>417859.000000</td>\n",
       "      <td>32.985763</td>\n",
       "      <td>4.250000e+08</td>\n",
       "      <td>2.781506e+09</td>\n",
       "      <td>900.000000</td>\n",
       "      <td>9767.000000</td>\n",
       "      <td>9.200000</td>\n",
       "      <td>2015.000000</td>\n",
       "      <td>4.250000e+08</td>\n",
       "      <td>2.827124e+09</td>\n",
       "    </tr>\n",
       "  </tbody>\n",
       "</table>\n",
       "</div>"
      ],
      "text/plain": [
       "                  id    popularity        budget       revenue       runtime  \\\n",
       "count   10866.000000  10866.000000  1.086600e+04  1.086600e+04  10866.000000   \n",
       "mean    66064.177434      0.646441  1.462570e+07  3.982332e+07    102.070863   \n",
       "std     92130.136561      1.000185  3.091321e+07  1.170035e+08     31.381405   \n",
       "min         5.000000      0.000065  0.000000e+00  0.000000e+00      0.000000   \n",
       "25%     10596.250000      0.207583  0.000000e+00  0.000000e+00     90.000000   \n",
       "50%     20669.000000      0.383856  0.000000e+00  0.000000e+00     99.000000   \n",
       "75%     75610.000000      0.713817  1.500000e+07  2.400000e+07    111.000000   \n",
       "max    417859.000000     32.985763  4.250000e+08  2.781506e+09    900.000000   \n",
       "\n",
       "         vote_count  vote_average  release_year    budget_adj   revenue_adj  \n",
       "count  10866.000000  10866.000000  10866.000000  1.086600e+04  1.086600e+04  \n",
       "mean     217.389748      5.974922   2001.322658  1.755104e+07  5.136436e+07  \n",
       "std      575.619058      0.935142     12.812941  3.430616e+07  1.446325e+08  \n",
       "min       10.000000      1.500000   1960.000000  0.000000e+00  0.000000e+00  \n",
       "25%       17.000000      5.400000   1995.000000  0.000000e+00  0.000000e+00  \n",
       "50%       38.000000      6.000000   2006.000000  0.000000e+00  0.000000e+00  \n",
       "75%      145.750000      6.600000   2011.000000  2.085325e+07  3.369710e+07  \n",
       "max     9767.000000      9.200000   2015.000000  4.250000e+08  2.827124e+09  "
      ]
     },
     "execution_count": 7,
     "metadata": {},
     "output_type": "execute_result"
    }
   ],
   "source": [
    "# Getting a more detailed view of the dataset using Statistical function describe()\n",
    "df.describe()"
   ]
  },
  {
   "cell_type": "code",
   "execution_count": 6,
   "metadata": {},
   "outputs": [
    {
     "data": {
      "text/plain": [
       "id                        int64\n",
       "imdb_id                  object\n",
       "popularity              float64\n",
       "budget                    int64\n",
       "revenue                   int64\n",
       "original_title           object\n",
       "cast                     object\n",
       "homepage                 object\n",
       "director                 object\n",
       "tagline                  object\n",
       "keywords                 object\n",
       "overview                 object\n",
       "runtime                   int64\n",
       "genres                   object\n",
       "production_companies     object\n",
       "release_date             object\n",
       "vote_count                int64\n",
       "vote_average            float64\n",
       "release_year              int64\n",
       "budget_adj              float64\n",
       "revenue_adj             float64\n",
       "dtype: object"
      ]
     },
     "execution_count": 6,
     "metadata": {},
     "output_type": "execute_result"
    }
   ],
   "source": [
    "# Inspected the datatypes in the dataset\n",
    "df.dtypes"
   ]
  },
  {
   "cell_type": "markdown",
   "metadata": {},
   "source": [
    "So far the data looks fine and all the datatypes are correct, so no need to typecast the data using astype() function"
   ]
  },
  {
   "cell_type": "markdown",
   "metadata": {},
   "source": [
    " \n",
    "## Data Cleaning (Removing all NaN values !)\n",
    "\n",
    "#### The NaN values exists in  'imdb_id' , 'cast', 'homepage' , 'director', 'tagline', 'keywords', 'overview' , 'genres', 'production_companies'\n"
   ]
  },
  {
   "cell_type": "code",
   "execution_count": 9,
   "metadata": {
    "scrolled": true
   },
   "outputs": [
    {
     "data": {
      "text/plain": [
       "id                         0\n",
       "imdb_id                   10\n",
       "popularity                 0\n",
       "budget                     0\n",
       "revenue                    0\n",
       "original_title             0\n",
       "cast                      76\n",
       "homepage                7930\n",
       "director                  44\n",
       "tagline                 2824\n",
       "keywords                1493\n",
       "overview                   4\n",
       "runtime                    0\n",
       "genres                    23\n",
       "production_companies    1030\n",
       "release_date               0\n",
       "vote_count                 0\n",
       "vote_average               0\n",
       "release_year               0\n",
       "budget_adj                 0\n",
       "revenue_adj                0\n",
       "dtype: int64"
      ]
     },
     "execution_count": 9,
     "metadata": {},
     "output_type": "execute_result"
    }
   ],
   "source": [
    "# Checking if all null values have been dropped or not \n",
    "df.isnull().sum()"
   ]
  },
  {
   "cell_type": "code",
   "execution_count": 10,
   "metadata": {
    "scrolled": true
   },
   "outputs": [
    {
     "data": {
      "text/plain": [
       "(10866, 21)"
      ]
     },
     "execution_count": 10,
     "metadata": {},
     "output_type": "execute_result"
    }
   ],
   "source": [
    "# Checking the dimensions of the TMDB dataset before removing NaN values\n",
    "df.shape              "
   ]
  },
  {
   "cell_type": "code",
   "execution_count": 11,
   "metadata": {},
   "outputs": [
    {
     "data": {
      "text/plain": [
       "1"
      ]
     },
     "execution_count": 11,
     "metadata": {},
     "output_type": "execute_result"
    }
   ],
   "source": [
    "# Use .duplicated() function to check if any duplicate row exist and then summing the total duplicated rows using .sum()\n",
    "df.duplicated().sum()"
   ]
  },
  {
   "cell_type": "code",
   "execution_count": 12,
   "metadata": {
    "scrolled": true
   },
   "outputs": [],
   "source": [
    "# Removing duplicated rows from the dataset\n",
    "df.drop_duplicates(inplace = True)"
   ]
  },
  {
   "cell_type": "code",
   "execution_count": 13,
   "metadata": {},
   "outputs": [
    {
     "data": {
      "text/plain": [
       "0"
      ]
     },
     "execution_count": 13,
     "metadata": {},
     "output_type": "execute_result"
    }
   ],
   "source": [
    "# Printing them again to check if any duplicated rows still exist or not - should be 0\n",
    "df.duplicated().sum()"
   ]
  },
  {
   "cell_type": "code",
   "execution_count": 14,
   "metadata": {},
   "outputs": [],
   "source": [
    "# Removing null values from all columns [ inplace = True, means making changes in the original df] \n",
    "df.dropna(inplace = True)"
   ]
  },
  {
   "cell_type": "code",
   "execution_count": 15,
   "metadata": {
    "scrolled": true
   },
   "outputs": [
    {
     "data": {
      "text/plain": [
       "id                      0\n",
       "imdb_id                 0\n",
       "popularity              0\n",
       "budget                  0\n",
       "revenue                 0\n",
       "original_title          0\n",
       "cast                    0\n",
       "homepage                0\n",
       "director                0\n",
       "tagline                 0\n",
       "keywords                0\n",
       "overview                0\n",
       "runtime                 0\n",
       "genres                  0\n",
       "production_companies    0\n",
       "release_date            0\n",
       "vote_count              0\n",
       "vote_average            0\n",
       "release_year            0\n",
       "budget_adj              0\n",
       "revenue_adj             0\n",
       "dtype: int64"
      ]
     },
     "execution_count": 15,
     "metadata": {},
     "output_type": "execute_result"
    }
   ],
   "source": [
    "# Checking if all null values have been dropped or not \n",
    "df.isnull().sum()"
   ]
  },
  {
   "cell_type": "code",
   "execution_count": 16,
   "metadata": {},
   "outputs": [
    {
     "data": {
      "text/plain": [
       "(1992, 21)"
      ]
     },
     "execution_count": 16,
     "metadata": {},
     "output_type": "execute_result"
    }
   ],
   "source": [
    "# Checking the new dimensions of the TMDB dataset after cleaning the data and removing NaN values.\n",
    "df.shape"
   ]
  },
  {
   "cell_type": "markdown",
   "metadata": {},
   "source": [
    "#### Now, we will remove unnecessary columns from the dataframe, so that it will be easier for us to work on it."
   ]
  },
  {
   "cell_type": "code",
   "execution_count": 17,
   "metadata": {},
   "outputs": [],
   "source": [
    "# Removing multiple columns using drop function.\n",
    "df.drop( ['homepage', 'overview', 'imdb_id', 'tagline' ], axis=1, inplace = True)"
   ]
  },
  {
   "cell_type": "code",
   "execution_count": 18,
   "metadata": {},
   "outputs": [
    {
     "data": {
      "text/html": [
       "<div>\n",
       "<style scoped>\n",
       "    .dataframe tbody tr th:only-of-type {\n",
       "        vertical-align: middle;\n",
       "    }\n",
       "\n",
       "    .dataframe tbody tr th {\n",
       "        vertical-align: top;\n",
       "    }\n",
       "\n",
       "    .dataframe thead th {\n",
       "        text-align: right;\n",
       "    }\n",
       "</style>\n",
       "<table border=\"1\" class=\"dataframe\">\n",
       "  <thead>\n",
       "    <tr style=\"text-align: right;\">\n",
       "      <th></th>\n",
       "      <th>id</th>\n",
       "      <th>popularity</th>\n",
       "      <th>budget</th>\n",
       "      <th>revenue</th>\n",
       "      <th>original_title</th>\n",
       "      <th>cast</th>\n",
       "      <th>director</th>\n",
       "      <th>keywords</th>\n",
       "      <th>runtime</th>\n",
       "      <th>genres</th>\n",
       "      <th>production_companies</th>\n",
       "      <th>release_date</th>\n",
       "      <th>vote_count</th>\n",
       "      <th>vote_average</th>\n",
       "      <th>release_year</th>\n",
       "      <th>budget_adj</th>\n",
       "      <th>revenue_adj</th>\n",
       "    </tr>\n",
       "  </thead>\n",
       "  <tbody>\n",
       "    <tr>\n",
       "      <th>0</th>\n",
       "      <td>135397</td>\n",
       "      <td>32.985763</td>\n",
       "      <td>150000000</td>\n",
       "      <td>1513528810</td>\n",
       "      <td>Jurassic World</td>\n",
       "      <td>Chris Pratt|Bryce Dallas Howard|Irrfan Khan|Vi...</td>\n",
       "      <td>Colin Trevorrow</td>\n",
       "      <td>monster|dna|tyrannosaurus rex|velociraptor|island</td>\n",
       "      <td>124</td>\n",
       "      <td>Action|Adventure|Science Fiction|Thriller</td>\n",
       "      <td>Universal Studios|Amblin Entertainment|Legenda...</td>\n",
       "      <td>6/9/15</td>\n",
       "      <td>5562</td>\n",
       "      <td>6.5</td>\n",
       "      <td>2015</td>\n",
       "      <td>1.379999e+08</td>\n",
       "      <td>1.392446e+09</td>\n",
       "    </tr>\n",
       "    <tr>\n",
       "      <th>1</th>\n",
       "      <td>76341</td>\n",
       "      <td>28.419936</td>\n",
       "      <td>150000000</td>\n",
       "      <td>378436354</td>\n",
       "      <td>Mad Max: Fury Road</td>\n",
       "      <td>Tom Hardy|Charlize Theron|Hugh Keays-Byrne|Nic...</td>\n",
       "      <td>George Miller</td>\n",
       "      <td>future|chase|post-apocalyptic|dystopia|australia</td>\n",
       "      <td>120</td>\n",
       "      <td>Action|Adventure|Science Fiction|Thriller</td>\n",
       "      <td>Village Roadshow Pictures|Kennedy Miller Produ...</td>\n",
       "      <td>5/13/15</td>\n",
       "      <td>6185</td>\n",
       "      <td>7.1</td>\n",
       "      <td>2015</td>\n",
       "      <td>1.379999e+08</td>\n",
       "      <td>3.481613e+08</td>\n",
       "    </tr>\n",
       "    <tr>\n",
       "      <th>2</th>\n",
       "      <td>262500</td>\n",
       "      <td>13.112507</td>\n",
       "      <td>110000000</td>\n",
       "      <td>295238201</td>\n",
       "      <td>Insurgent</td>\n",
       "      <td>Shailene Woodley|Theo James|Kate Winslet|Ansel...</td>\n",
       "      <td>Robert Schwentke</td>\n",
       "      <td>based on novel|revolution|dystopia|sequel|dyst...</td>\n",
       "      <td>119</td>\n",
       "      <td>Adventure|Science Fiction|Thriller</td>\n",
       "      <td>Summit Entertainment|Mandeville Films|Red Wago...</td>\n",
       "      <td>3/18/15</td>\n",
       "      <td>2480</td>\n",
       "      <td>6.3</td>\n",
       "      <td>2015</td>\n",
       "      <td>1.012000e+08</td>\n",
       "      <td>2.716190e+08</td>\n",
       "    </tr>\n",
       "  </tbody>\n",
       "</table>\n",
       "</div>"
      ],
      "text/plain": [
       "       id  popularity     budget     revenue      original_title  \\\n",
       "0  135397   32.985763  150000000  1513528810      Jurassic World   \n",
       "1   76341   28.419936  150000000   378436354  Mad Max: Fury Road   \n",
       "2  262500   13.112507  110000000   295238201           Insurgent   \n",
       "\n",
       "                                                cast          director  \\\n",
       "0  Chris Pratt|Bryce Dallas Howard|Irrfan Khan|Vi...   Colin Trevorrow   \n",
       "1  Tom Hardy|Charlize Theron|Hugh Keays-Byrne|Nic...     George Miller   \n",
       "2  Shailene Woodley|Theo James|Kate Winslet|Ansel...  Robert Schwentke   \n",
       "\n",
       "                                            keywords  runtime  \\\n",
       "0  monster|dna|tyrannosaurus rex|velociraptor|island      124   \n",
       "1   future|chase|post-apocalyptic|dystopia|australia      120   \n",
       "2  based on novel|revolution|dystopia|sequel|dyst...      119   \n",
       "\n",
       "                                      genres  \\\n",
       "0  Action|Adventure|Science Fiction|Thriller   \n",
       "1  Action|Adventure|Science Fiction|Thriller   \n",
       "2         Adventure|Science Fiction|Thriller   \n",
       "\n",
       "                                production_companies release_date  vote_count  \\\n",
       "0  Universal Studios|Amblin Entertainment|Legenda...       6/9/15        5562   \n",
       "1  Village Roadshow Pictures|Kennedy Miller Produ...      5/13/15        6185   \n",
       "2  Summit Entertainment|Mandeville Films|Red Wago...      3/18/15        2480   \n",
       "\n",
       "   vote_average  release_year    budget_adj   revenue_adj  \n",
       "0           6.5          2015  1.379999e+08  1.392446e+09  \n",
       "1           7.1          2015  1.379999e+08  3.481613e+08  \n",
       "2           6.3          2015  1.012000e+08  2.716190e+08  "
      ]
     },
     "execution_count": 18,
     "metadata": {},
     "output_type": "execute_result"
    }
   ],
   "source": [
    "# Confirming that the desired columns are removed or not\n",
    "df.head(3)"
   ]
  },
  {
   "cell_type": "code",
   "execution_count": 8,
   "metadata": {},
   "outputs": [
    {
     "data": {
      "text/plain": [
       "0    Action|Adventure|Science Fiction|Thriller\n",
       "1    Action|Adventure|Science Fiction|Thriller\n",
       "2           Adventure|Science Fiction|Thriller\n",
       "Name: genres, dtype: object"
      ]
     },
     "execution_count": 8,
     "metadata": {},
     "output_type": "execute_result"
    }
   ],
   "source": [
    "# Different genres are separated using '|' \n",
    "df['genres'].head(3)"
   ]
  },
  {
   "cell_type": "code",
   "execution_count": 13,
   "metadata": {},
   "outputs": [],
   "source": [
    "# Splitting different genres using split() function\n",
    "df_genres = df['genres'].str.split('|').tolist()"
   ]
  },
  {
   "cell_type": "code",
   "execution_count": 16,
   "metadata": {},
   "outputs": [
    {
     "data": {
      "text/plain": [
       "[['Action', 'Adventure', 'Science Fiction', 'Thriller'],\n",
       " ['Action', 'Adventure', 'Science Fiction', 'Thriller'],\n",
       " ['Adventure', 'Science Fiction', 'Thriller']]"
      ]
     },
     "execution_count": 16,
     "metadata": {},
     "output_type": "execute_result"
    }
   ],
   "source": [
    "# Checking to see if the genres have been splitted or not\n",
    "df_genres[0:3]"
   ]
  },
  {
   "cell_type": "markdown",
   "metadata": {},
   "source": [
    "<a id='eda'></a>\n",
    "## Exploratory Data Analysis\n",
    "\n",
    ">  Now after trimming and cleaned the data, we're ready to move on to exploration. Compute statistics and create visualizations with the goal of addressing the research questions that we posed in the Introduction section. Looking at one variable at a time, and then follow it up by looking at relationships between variables.\n",
    "\n",
    "### Research Question 1 (What were the Top 5 Genres throughout the years?)"
   ]
  },
  {
   "cell_type": "code",
   "execution_count": 18,
   "metadata": {},
   "outputs": [],
   "source": [
    "#Creating a copy of the datafram\n",
    "genres = df.copy()"
   ]
  },
  {
   "cell_type": "code",
   "execution_count": 19,
   "metadata": {},
   "outputs": [],
   "source": [
    "# Dropping unnecessary columns from our dataframe to simplify our Exploration \n",
    "genres.drop(['budget', 'revenue','keywords', 'original_title', 'cast', 'director',\n",
    "             'runtime', 'release_date', 'production_companies', 'vote_count', 'vote_average','budget_adj', 'revenue_adj'],\n",
    "            axis=1, inplace=True)"
   ]
  },
  {
   "cell_type": "code",
   "execution_count": 20,
   "metadata": {
    "scrolled": true
   },
   "outputs": [
    {
     "data": {
      "text/html": [
       "<div>\n",
       "<style scoped>\n",
       "    .dataframe tbody tr th:only-of-type {\n",
       "        vertical-align: middle;\n",
       "    }\n",
       "\n",
       "    .dataframe tbody tr th {\n",
       "        vertical-align: top;\n",
       "    }\n",
       "\n",
       "    .dataframe thead th {\n",
       "        text-align: right;\n",
       "    }\n",
       "</style>\n",
       "<table border=\"1\" class=\"dataframe\">\n",
       "  <thead>\n",
       "    <tr style=\"text-align: right;\">\n",
       "      <th></th>\n",
       "      <th>id</th>\n",
       "      <th>imdb_id</th>\n",
       "      <th>popularity</th>\n",
       "      <th>homepage</th>\n",
       "      <th>tagline</th>\n",
       "      <th>overview</th>\n",
       "      <th>genres</th>\n",
       "      <th>release_year</th>\n",
       "    </tr>\n",
       "  </thead>\n",
       "  <tbody>\n",
       "    <tr>\n",
       "      <th>0</th>\n",
       "      <td>135397</td>\n",
       "      <td>tt0369610</td>\n",
       "      <td>32.985763</td>\n",
       "      <td>http://www.jurassicworld.com/</td>\n",
       "      <td>The park is open.</td>\n",
       "      <td>Twenty-two years after the events of Jurassic ...</td>\n",
       "      <td>Action|Adventure|Science Fiction|Thriller</td>\n",
       "      <td>2015</td>\n",
       "    </tr>\n",
       "    <tr>\n",
       "      <th>1</th>\n",
       "      <td>76341</td>\n",
       "      <td>tt1392190</td>\n",
       "      <td>28.419936</td>\n",
       "      <td>http://www.madmaxmovie.com/</td>\n",
       "      <td>What a Lovely Day.</td>\n",
       "      <td>An apocalyptic story set in the furthest reach...</td>\n",
       "      <td>Action|Adventure|Science Fiction|Thriller</td>\n",
       "      <td>2015</td>\n",
       "    </tr>\n",
       "    <tr>\n",
       "      <th>2</th>\n",
       "      <td>262500</td>\n",
       "      <td>tt2908446</td>\n",
       "      <td>13.112507</td>\n",
       "      <td>http://www.thedivergentseries.movie/#insurgent</td>\n",
       "      <td>One Choice Can Destroy You</td>\n",
       "      <td>Beatrice Prior must confront her inner demons ...</td>\n",
       "      <td>Adventure|Science Fiction|Thriller</td>\n",
       "      <td>2015</td>\n",
       "    </tr>\n",
       "    <tr>\n",
       "      <th>3</th>\n",
       "      <td>140607</td>\n",
       "      <td>tt2488496</td>\n",
       "      <td>11.173104</td>\n",
       "      <td>http://www.starwars.com/films/star-wars-episod...</td>\n",
       "      <td>Every generation has a story.</td>\n",
       "      <td>Thirty years after defeating the Galactic Empi...</td>\n",
       "      <td>Action|Adventure|Science Fiction|Fantasy</td>\n",
       "      <td>2015</td>\n",
       "    </tr>\n",
       "    <tr>\n",
       "      <th>4</th>\n",
       "      <td>168259</td>\n",
       "      <td>tt2820852</td>\n",
       "      <td>9.335014</td>\n",
       "      <td>http://www.furious7.com/</td>\n",
       "      <td>Vengeance Hits Home</td>\n",
       "      <td>Deckard Shaw seeks revenge against Dominic Tor...</td>\n",
       "      <td>Action|Crime|Thriller</td>\n",
       "      <td>2015</td>\n",
       "    </tr>\n",
       "  </tbody>\n",
       "</table>\n",
       "</div>"
      ],
      "text/plain": [
       "       id    imdb_id  popularity  \\\n",
       "0  135397  tt0369610   32.985763   \n",
       "1   76341  tt1392190   28.419936   \n",
       "2  262500  tt2908446   13.112507   \n",
       "3  140607  tt2488496   11.173104   \n",
       "4  168259  tt2820852    9.335014   \n",
       "\n",
       "                                            homepage  \\\n",
       "0                      http://www.jurassicworld.com/   \n",
       "1                        http://www.madmaxmovie.com/   \n",
       "2     http://www.thedivergentseries.movie/#insurgent   \n",
       "3  http://www.starwars.com/films/star-wars-episod...   \n",
       "4                           http://www.furious7.com/   \n",
       "\n",
       "                         tagline  \\\n",
       "0              The park is open.   \n",
       "1             What a Lovely Day.   \n",
       "2     One Choice Can Destroy You   \n",
       "3  Every generation has a story.   \n",
       "4            Vengeance Hits Home   \n",
       "\n",
       "                                            overview  \\\n",
       "0  Twenty-two years after the events of Jurassic ...   \n",
       "1  An apocalyptic story set in the furthest reach...   \n",
       "2  Beatrice Prior must confront her inner demons ...   \n",
       "3  Thirty years after defeating the Galactic Empi...   \n",
       "4  Deckard Shaw seeks revenge against Dominic Tor...   \n",
       "\n",
       "                                      genres  release_year  \n",
       "0  Action|Adventure|Science Fiction|Thriller          2015  \n",
       "1  Action|Adventure|Science Fiction|Thriller          2015  \n",
       "2         Adventure|Science Fiction|Thriller          2015  \n",
       "3   Action|Adventure|Science Fiction|Fantasy          2015  \n",
       "4                      Action|Crime|Thriller          2015  "
      ]
     },
     "execution_count": 20,
     "metadata": {},
     "output_type": "execute_result"
    }
   ],
   "source": [
    "genres.head()"
   ]
  },
  {
   "cell_type": "code",
   "execution_count": 21,
   "metadata": {},
   "outputs": [
    {
     "data": {
      "text/html": [
       "<div>\n",
       "<style scoped>\n",
       "    .dataframe tbody tr th:only-of-type {\n",
       "        vertical-align: middle;\n",
       "    }\n",
       "\n",
       "    .dataframe tbody tr th {\n",
       "        vertical-align: top;\n",
       "    }\n",
       "\n",
       "    .dataframe thead th {\n",
       "        text-align: right;\n",
       "    }\n",
       "</style>\n",
       "<table border=\"1\" class=\"dataframe\">\n",
       "  <thead>\n",
       "    <tr style=\"text-align: right;\">\n",
       "      <th></th>\n",
       "      <th>id</th>\n",
       "      <th>genres</th>\n",
       "    </tr>\n",
       "  </thead>\n",
       "  <tbody>\n",
       "    <tr>\n",
       "      <th>0</th>\n",
       "      <td>135397</td>\n",
       "      <td>Action|Adventure|Science Fiction|Thriller</td>\n",
       "    </tr>\n",
       "    <tr>\n",
       "      <th>1</th>\n",
       "      <td>76341</td>\n",
       "      <td>Action|Adventure|Science Fiction|Thriller</td>\n",
       "    </tr>\n",
       "    <tr>\n",
       "      <th>2</th>\n",
       "      <td>262500</td>\n",
       "      <td>Adventure|Science Fiction|Thriller</td>\n",
       "    </tr>\n",
       "    <tr>\n",
       "      <th>3</th>\n",
       "      <td>140607</td>\n",
       "      <td>Action|Adventure|Science Fiction|Fantasy</td>\n",
       "    </tr>\n",
       "    <tr>\n",
       "      <th>4</th>\n",
       "      <td>168259</td>\n",
       "      <td>Action|Crime|Thriller</td>\n",
       "    </tr>\n",
       "  </tbody>\n",
       "</table>\n",
       "</div>"
      ],
      "text/plain": [
       "       id                                     genres\n",
       "0  135397  Action|Adventure|Science Fiction|Thriller\n",
       "1   76341  Action|Adventure|Science Fiction|Thriller\n",
       "2  262500         Adventure|Science Fiction|Thriller\n",
       "3  140607   Action|Adventure|Science Fiction|Fantasy\n",
       "4  168259                      Action|Crime|Thriller"
      ]
     },
     "execution_count": 21,
     "metadata": {},
     "output_type": "execute_result"
    }
   ],
   "source": [
    "# Splitting genres into genre wrt id\n",
    "\n",
    "genre = genres[['id', 'genres']]\n",
    "genre.head()"
   ]
  },
  {
   "cell_type": "code",
   "execution_count": 22,
   "metadata": {},
   "outputs": [],
   "source": [
    "# Initializing an empty list\n",
    "list1 = []\n",
    "\n",
    "# Splitting the genres with '|' into different genre and appending to a list\n",
    "list1 = genre['genres'].str.split('|').tolist()"
   ]
  },
  {
   "cell_type": "code",
   "execution_count": 23,
   "metadata": {},
   "outputs": [
    {
     "data": {
      "text/plain": [
       "[['Action', 'Adventure', 'Science Fiction', 'Thriller'],\n",
       " ['Action', 'Adventure', 'Science Fiction', 'Thriller'],\n",
       " ['Adventure', 'Science Fiction', 'Thriller']]"
      ]
     },
     "execution_count": 23,
     "metadata": {},
     "output_type": "execute_result"
    }
   ],
   "source": [
    "# Displaying the Genres separately now\n",
    "list1[0:3]"
   ]
  },
  {
   "cell_type": "code",
   "execution_count": 28,
   "metadata": {},
   "outputs": [
    {
     "data": {
      "text/plain": [
       "id       \n",
       "135397  0             Action\n",
       "        1          Adventure\n",
       "        2    Science Fiction\n",
       "        3           Thriller\n",
       "76341   0             Action\n",
       "                  ...       \n",
       "8469    0             Comedy\n",
       "13963   0        Documentary\n",
       "        1              Music\n",
       "16214   0             Action\n",
       "        1             Comedy\n",
       "Length: 5123, dtype: object"
      ]
     },
     "execution_count": 28,
     "metadata": {},
     "output_type": "execute_result"
    }
   ],
   "source": [
    "# Converting the list into a dataframe with respect to id using stack() function\n",
    "\n",
    "stacked_genre = pd.DataFrame(list1, index = genre['id']).stack()\n",
    "stacked_genre"
   ]
  },
  {
   "cell_type": "code",
   "execution_count": 29,
   "metadata": {},
   "outputs": [
    {
     "data": {
      "text/html": [
       "<div>\n",
       "<style scoped>\n",
       "    .dataframe tbody tr th:only-of-type {\n",
       "        vertical-align: middle;\n",
       "    }\n",
       "\n",
       "    .dataframe tbody tr th {\n",
       "        vertical-align: top;\n",
       "    }\n",
       "\n",
       "    .dataframe thead th {\n",
       "        text-align: right;\n",
       "    }\n",
       "</style>\n",
       "<table border=\"1\" class=\"dataframe\">\n",
       "  <thead>\n",
       "    <tr style=\"text-align: right;\">\n",
       "      <th></th>\n",
       "      <th>id</th>\n",
       "      <th>level_1</th>\n",
       "      <th>0</th>\n",
       "    </tr>\n",
       "  </thead>\n",
       "  <tbody>\n",
       "    <tr>\n",
       "      <th>0</th>\n",
       "      <td>135397</td>\n",
       "      <td>0</td>\n",
       "      <td>Action</td>\n",
       "    </tr>\n",
       "    <tr>\n",
       "      <th>1</th>\n",
       "      <td>135397</td>\n",
       "      <td>1</td>\n",
       "      <td>Adventure</td>\n",
       "    </tr>\n",
       "    <tr>\n",
       "      <th>2</th>\n",
       "      <td>135397</td>\n",
       "      <td>2</td>\n",
       "      <td>Science Fiction</td>\n",
       "    </tr>\n",
       "    <tr>\n",
       "      <th>3</th>\n",
       "      <td>135397</td>\n",
       "      <td>3</td>\n",
       "      <td>Thriller</td>\n",
       "    </tr>\n",
       "    <tr>\n",
       "      <th>4</th>\n",
       "      <td>76341</td>\n",
       "      <td>0</td>\n",
       "      <td>Action</td>\n",
       "    </tr>\n",
       "  </tbody>\n",
       "</table>\n",
       "</div>"
      ],
      "text/plain": [
       "       id  level_1                0\n",
       "0  135397        0           Action\n",
       "1  135397        1        Adventure\n",
       "2  135397        2  Science Fiction\n",
       "3  135397        3         Thriller\n",
       "4   76341        0           Action"
      ]
     },
     "execution_count": 29,
     "metadata": {},
     "output_type": "execute_result"
    }
   ],
   "source": [
    "# Removing id as the index\n",
    "stacked_genre = stacked_genre.reset_index()\n",
    "stacked_genre.head()"
   ]
  },
  {
   "cell_type": "code",
   "execution_count": 30,
   "metadata": {},
   "outputs": [
    {
     "data": {
      "text/html": [
       "<div>\n",
       "<style scoped>\n",
       "    .dataframe tbody tr th:only-of-type {\n",
       "        vertical-align: middle;\n",
       "    }\n",
       "\n",
       "    .dataframe tbody tr th {\n",
       "        vertical-align: top;\n",
       "    }\n",
       "\n",
       "    .dataframe thead th {\n",
       "        text-align: right;\n",
       "    }\n",
       "</style>\n",
       "<table border=\"1\" class=\"dataframe\">\n",
       "  <thead>\n",
       "    <tr style=\"text-align: right;\">\n",
       "      <th></th>\n",
       "      <th>id</th>\n",
       "      <th>0</th>\n",
       "    </tr>\n",
       "  </thead>\n",
       "  <tbody>\n",
       "    <tr>\n",
       "      <th>0</th>\n",
       "      <td>135397</td>\n",
       "      <td>Action</td>\n",
       "    </tr>\n",
       "    <tr>\n",
       "      <th>1</th>\n",
       "      <td>135397</td>\n",
       "      <td>Adventure</td>\n",
       "    </tr>\n",
       "    <tr>\n",
       "      <th>2</th>\n",
       "      <td>135397</td>\n",
       "      <td>Science Fiction</td>\n",
       "    </tr>\n",
       "    <tr>\n",
       "      <th>3</th>\n",
       "      <td>135397</td>\n",
       "      <td>Thriller</td>\n",
       "    </tr>\n",
       "    <tr>\n",
       "      <th>4</th>\n",
       "      <td>76341</td>\n",
       "      <td>Action</td>\n",
       "    </tr>\n",
       "    <tr>\n",
       "      <th>...</th>\n",
       "      <td>...</td>\n",
       "      <td>...</td>\n",
       "    </tr>\n",
       "    <tr>\n",
       "      <th>5118</th>\n",
       "      <td>8469</td>\n",
       "      <td>Comedy</td>\n",
       "    </tr>\n",
       "    <tr>\n",
       "      <th>5119</th>\n",
       "      <td>13963</td>\n",
       "      <td>Documentary</td>\n",
       "    </tr>\n",
       "    <tr>\n",
       "      <th>5120</th>\n",
       "      <td>13963</td>\n",
       "      <td>Music</td>\n",
       "    </tr>\n",
       "    <tr>\n",
       "      <th>5121</th>\n",
       "      <td>16214</td>\n",
       "      <td>Action</td>\n",
       "    </tr>\n",
       "    <tr>\n",
       "      <th>5122</th>\n",
       "      <td>16214</td>\n",
       "      <td>Comedy</td>\n",
       "    </tr>\n",
       "  </tbody>\n",
       "</table>\n",
       "<p>5123 rows × 2 columns</p>\n",
       "</div>"
      ],
      "text/plain": [
       "          id                0\n",
       "0     135397           Action\n",
       "1     135397        Adventure\n",
       "2     135397  Science Fiction\n",
       "3     135397         Thriller\n",
       "4      76341           Action\n",
       "...      ...              ...\n",
       "5118    8469           Comedy\n",
       "5119   13963      Documentary\n",
       "5120   13963            Music\n",
       "5121   16214           Action\n",
       "5122   16214           Comedy\n",
       "\n",
       "[5123 rows x 2 columns]"
      ]
     },
     "execution_count": 30,
     "metadata": {},
     "output_type": "execute_result"
    }
   ],
   "source": [
    "# Removing level_1 column\n",
    "stacked_genre = stacked_genre.drop(columns='level_1')\n",
    "stacked_genre"
   ]
  },
  {
   "cell_type": "code",
   "execution_count": 31,
   "metadata": {},
   "outputs": [
    {
     "data": {
      "text/html": [
       "<div>\n",
       "<style scoped>\n",
       "    .dataframe tbody tr th:only-of-type {\n",
       "        vertical-align: middle;\n",
       "    }\n",
       "\n",
       "    .dataframe tbody tr th {\n",
       "        vertical-align: top;\n",
       "    }\n",
       "\n",
       "    .dataframe thead th {\n",
       "        text-align: right;\n",
       "    }\n",
       "</style>\n",
       "<table border=\"1\" class=\"dataframe\">\n",
       "  <thead>\n",
       "    <tr style=\"text-align: right;\">\n",
       "      <th></th>\n",
       "      <th>id</th>\n",
       "      <th>genre</th>\n",
       "    </tr>\n",
       "  </thead>\n",
       "  <tbody>\n",
       "    <tr>\n",
       "      <th>0</th>\n",
       "      <td>135397</td>\n",
       "      <td>Action</td>\n",
       "    </tr>\n",
       "    <tr>\n",
       "      <th>1</th>\n",
       "      <td>135397</td>\n",
       "      <td>Adventure</td>\n",
       "    </tr>\n",
       "    <tr>\n",
       "      <th>2</th>\n",
       "      <td>135397</td>\n",
       "      <td>Science Fiction</td>\n",
       "    </tr>\n",
       "    <tr>\n",
       "      <th>3</th>\n",
       "      <td>135397</td>\n",
       "      <td>Thriller</td>\n",
       "    </tr>\n",
       "    <tr>\n",
       "      <th>4</th>\n",
       "      <td>76341</td>\n",
       "      <td>Action</td>\n",
       "    </tr>\n",
       "  </tbody>\n",
       "</table>\n",
       "</div>"
      ],
      "text/plain": [
       "       id            genre\n",
       "0  135397           Action\n",
       "1  135397        Adventure\n",
       "2  135397  Science Fiction\n",
       "3  135397         Thriller\n",
       "4   76341           Action"
      ]
     },
     "execution_count": 31,
     "metadata": {},
     "output_type": "execute_result"
    }
   ],
   "source": [
    "# Renaming columns\n",
    "stacked_genre = stacked_genre.rename(columns={0: 'genre'})\n",
    "stacked_genre.head()"
   ]
  },
  {
   "cell_type": "code",
   "execution_count": 32,
   "metadata": {},
   "outputs": [],
   "source": [
    "# Merging the two dataframes genres and stacked_genre\n",
    "merged_df = pd.merge(genres, stacked_genre, on='id', how='left')"
   ]
  },
  {
   "cell_type": "code",
   "execution_count": 33,
   "metadata": {},
   "outputs": [],
   "source": [
    "# Removing unnecessary columns from the Dataframe\n",
    "merged_df.drop(['genres', 'id'], axis=1, inplace=True)"
   ]
  },
  {
   "cell_type": "code",
   "execution_count": 34,
   "metadata": {},
   "outputs": [
    {
     "data": {
      "text/html": [
       "<div>\n",
       "<style scoped>\n",
       "    .dataframe tbody tr th:only-of-type {\n",
       "        vertical-align: middle;\n",
       "    }\n",
       "\n",
       "    .dataframe tbody tr th {\n",
       "        vertical-align: top;\n",
       "    }\n",
       "\n",
       "    .dataframe thead th {\n",
       "        text-align: right;\n",
       "    }\n",
       "</style>\n",
       "<table border=\"1\" class=\"dataframe\">\n",
       "  <thead>\n",
       "    <tr style=\"text-align: right;\">\n",
       "      <th></th>\n",
       "      <th>popularity</th>\n",
       "      <th>release_year</th>\n",
       "      <th>genre</th>\n",
       "    </tr>\n",
       "  </thead>\n",
       "  <tbody>\n",
       "    <tr>\n",
       "      <th>0</th>\n",
       "      <td>32.985763</td>\n",
       "      <td>2015</td>\n",
       "      <td>Action</td>\n",
       "    </tr>\n",
       "    <tr>\n",
       "      <th>1</th>\n",
       "      <td>32.985763</td>\n",
       "      <td>2015</td>\n",
       "      <td>Adventure</td>\n",
       "    </tr>\n",
       "    <tr>\n",
       "      <th>2</th>\n",
       "      <td>32.985763</td>\n",
       "      <td>2015</td>\n",
       "      <td>Science Fiction</td>\n",
       "    </tr>\n",
       "    <tr>\n",
       "      <th>3</th>\n",
       "      <td>32.985763</td>\n",
       "      <td>2015</td>\n",
       "      <td>Thriller</td>\n",
       "    </tr>\n",
       "    <tr>\n",
       "      <th>4</th>\n",
       "      <td>28.419936</td>\n",
       "      <td>2015</td>\n",
       "      <td>Action</td>\n",
       "    </tr>\n",
       "  </tbody>\n",
       "</table>\n",
       "</div>"
      ],
      "text/plain": [
       "   popularity  release_year            genre\n",
       "0   32.985763          2015           Action\n",
       "1   32.985763          2015        Adventure\n",
       "2   32.985763          2015  Science Fiction\n",
       "3   32.985763          2015         Thriller\n",
       "4   28.419936          2015           Action"
      ]
     },
     "execution_count": 34,
     "metadata": {},
     "output_type": "execute_result"
    }
   ],
   "source": [
    "merged_df.head()"
   ]
  },
  {
   "cell_type": "code",
   "execution_count": 35,
   "metadata": {},
   "outputs": [
    {
     "data": {
      "image/png": "[encoded data removed]",
      "text/plain": [
       "<Figure size 936x720 with 1 Axes>"
      ]
     },
     "metadata": {},
     "output_type": "display_data"
    }
   ],
   "source": [
    "# Using plot() function to plot a pie-chart\n",
    "merged_df['genre'].value_counts()[:10].plot(kind = 'pie', figsize=(13,10), autopct='%.1f'); # autopct shows percentage in piechart \n",
    "plt.ylabel('GENRES', fontsize=17, rotation=0)\n",
    "plt.title('Most Popular Genres', fontsize = 25);\n",
    "\n",
    "# Defining the key of pie-chart\n",
    "plt.legend(bbox_to_anchor=(1, 1, 4, 2) ,loc=3);"
   ]
  },
  {
   "cell_type": "markdown",
   "metadata": {},
   "source": [
    "### From the pie-chart above, we can clearly see that 'Drama' , 'Comedy', 'Thriller', 'Action', and 'Adventure' are the Top 5  Genres throughout the years.\n"
   ]
  },
  {
   "cell_type": "code",
   "execution_count": 36,
   "metadata": {},
   "outputs": [
    {
     "data": {
      "image/png": "[encoded data removed]",
      "text/plain": [
       "<Figure size 936x720 with 1 Axes>"
      ]
     },
     "metadata": {
      "needs_background": "light"
     },
     "output_type": "display_data"
    }
   ],
   "source": [
    "# Using plot function to plot a barchart\n",
    "merged_df['genre'].value_counts().plot(kind = 'bar', figsize=(13,10));\n",
    "plt.title('Most Popular Genres', fontsize = 25);\n",
    "plt.ylabel(\"Number Of Moves\", fontsize = 20 );\n",
    "plt.xlabel(\"Genres\", fontsize = 20);\n",
    "plt.legend();"
   ]
  },
  {
   "cell_type": "markdown",
   "metadata": {},
   "source": [
    "#### The above graph shows different genres ranging from the most watched to the least watched and also shows the frequency of each. It is quite evident from the graph that Drama is the most popular genre among all of the genres"
   ]
  },
  {
   "cell_type": "code",
   "execution_count": 37,
   "metadata": {},
   "outputs": [
    {
     "data": {
      "image/png": "[encoded data removed]",
      "text/plain": [
       "<Figure size 936x720 with 1 Axes>"
      ]
     },
     "metadata": {
      "needs_background": "light"
     },
     "output_type": "display_data"
    }
   ],
   "source": [
    "# Plotting a Horizontal Bar Chart using plot function\n",
    "merged_df['genre'].value_counts().plot(kind = 'barh', figsize=(13,10));\n",
    "plt.title('Most Popular Genres', fontsize = 25);\n",
    "plt.ylabel(\"Genres\", fontsize = 20 );\n",
    "plt.xlabel(\"Number Of Movies\", fontsize = 20);\n",
    "plt.legend();"
   ]
  },
  {
   "cell_type": "markdown",
   "metadata": {},
   "source": [
    "#### This graph makes it much easier to visualize different Genres and the Frequencies of each Genre"
   ]
  },
  {
   "cell_type": "code",
   "execution_count": 38,
   "metadata": {
    "scrolled": true
   },
   "outputs": [
    {
     "data": {
      "text/plain": [
       "count      5123\n",
       "unique       20\n",
       "top       Drama\n",
       "freq        838\n",
       "Name: genre, dtype: object"
      ]
     },
     "execution_count": 38,
     "metadata": {},
     "output_type": "execute_result"
    }
   ],
   "source": [
    "# We can also confirm that the Top Genre is 'Drama' using describe() function \n",
    "\n",
    "merged_df['genre'].describe()"
   ]
  },
  {
   "cell_type": "markdown",
   "metadata": {},
   "source": [
    "**Hence confirmed the top genre for movies is 'Drama' with a frequency of *838* times**"
   ]
  },
  {
   "cell_type": "markdown",
   "metadata": {},
   "source": [
    "\n",
    "\n",
    "### Research Question 2 (How did the amount of movies produced changed over time?)"
   ]
  },
  {
   "cell_type": "code",
   "execution_count": 39,
   "metadata": {},
   "outputs": [
    {
     "data": {
      "text/plain": [
       "array([1961, 1962, 1963, 1964, 1965, 1967, 1969, 1970, 1971, 1972, 1973,\n",
       "       1974, 1975, 1976, 1977, 1978, 1979, 1980, 1981, 1982, 1983, 1984,\n",
       "       1985, 1986, 1987, 1988, 1989, 1990, 1991, 1992, 1993, 1994, 1995,\n",
       "       1996, 1997, 1998, 1999, 2000, 2001, 2002, 2003, 2004, 2005, 2006,\n",
       "       2007, 2008, 2009, 2010, 2011, 2012, 2013, 2014, 2015], dtype=int64)"
      ]
     },
     "metadata": {},
     "output_type": "display_data"
    }
   ],
   "source": [
    "# To create an array of release_year\n",
    "years = df['release_year'].unique()    \n",
    "\n",
    "# Sorting them orderwise\n",
    "years.sort()\n",
    "\n",
    "display(years)"
   ]
  },
  {
   "cell_type": "code",
   "execution_count": 40,
   "metadata": {},
   "outputs": [],
   "source": [
    "# Creating a list of total number of movies released each year\n",
    "amount_of_movies = []\n",
    "\n",
    "for year in years:\n",
    "    filtered_df = merged_df[merged_df['release_year'] == year]            # Filtering out data and storing it wrt to years\n",
    "    no_of_rows = len(filtered_df.index)                                   # to find number of rows\n",
    "    amount_of_movies.append((year,no_of_rows))                            # Appending years,rows"
   ]
  },
  {
   "cell_type": "code",
   "execution_count": 41,
   "metadata": {},
   "outputs": [
    {
     "data": {
      "text/plain": [
       "[(1961, 2),\n",
       " (1962, 3),\n",
       " (1963, 3),\n",
       " (1964, 5),\n",
       " (1965, 3),\n",
       " (1967, 3),\n",
       " (1969, 3),\n",
       " (1970, 3),\n",
       " (1971, 12),\n",
       " (1972, 2),\n",
       " (1973, 6),\n",
       " (1974, 5),\n",
       " (1975, 10),\n",
       " (1976, 4),\n",
       " (1977, 8),\n",
       " (1978, 7),\n",
       " (1979, 14),\n",
       " (1980, 4),\n",
       " (1981, 16),\n",
       " (1982, 11),\n",
       " (1983, 20),\n",
       " (1984, 17),\n",
       " (1985, 13),\n",
       " (1986, 6),\n",
       " (1987, 21),\n",
       " (1988, 13),\n",
       " (1989, 16),\n",
       " (1990, 22),\n",
       " (1991, 8),\n",
       " (1992, 18),\n",
       " (1993, 26),\n",
       " (1994, 19),\n",
       " (1995, 31),\n",
       " (1996, 49),\n",
       " (1997, 26),\n",
       " (1998, 30),\n",
       " (1999, 59),\n",
       " (2000, 55),\n",
       " (2001, 53),\n",
       " (2002, 89),\n",
       " (2003, 99),\n",
       " (2004, 133),\n",
       " (2005, 193),\n",
       " (2006, 247),\n",
       " (2007, 361),\n",
       " (2008, 360),\n",
       " (2009, 488),\n",
       " (2010, 519),\n",
       " (2011, 534),\n",
       " (2012, 375),\n",
       " (2013, 326),\n",
       " (2014, 358),\n",
       " (2015, 415)]"
      ]
     },
     "execution_count": 41,
     "metadata": {},
     "output_type": "execute_result"
    }
   ],
   "source": [
    "# Returns a list of movies\n",
    "amount_of_movies        "
   ]
  },
  {
   "cell_type": "code",
   "execution_count": 42,
   "metadata": {},
   "outputs": [
    {
     "data": {
      "text/html": [
       "<div>\n",
       "<style scoped>\n",
       "    .dataframe tbody tr th:only-of-type {\n",
       "        vertical-align: middle;\n",
       "    }\n",
       "\n",
       "    .dataframe tbody tr th {\n",
       "        vertical-align: top;\n",
       "    }\n",
       "\n",
       "    .dataframe thead th {\n",
       "        text-align: right;\n",
       "    }\n",
       "</style>\n",
       "<table border=\"1\" class=\"dataframe\">\n",
       "  <thead>\n",
       "    <tr style=\"text-align: right;\">\n",
       "      <th></th>\n",
       "      <th>Year</th>\n",
       "      <th>Number Of Movies</th>\n",
       "    </tr>\n",
       "  </thead>\n",
       "  <tbody>\n",
       "    <tr>\n",
       "      <th>0</th>\n",
       "      <td>1961</td>\n",
       "      <td>2</td>\n",
       "    </tr>\n",
       "    <tr>\n",
       "      <th>1</th>\n",
       "      <td>1962</td>\n",
       "      <td>3</td>\n",
       "    </tr>\n",
       "    <tr>\n",
       "      <th>2</th>\n",
       "      <td>1963</td>\n",
       "      <td>3</td>\n",
       "    </tr>\n",
       "    <tr>\n",
       "      <th>3</th>\n",
       "      <td>1964</td>\n",
       "      <td>5</td>\n",
       "    </tr>\n",
       "    <tr>\n",
       "      <th>4</th>\n",
       "      <td>1965</td>\n",
       "      <td>3</td>\n",
       "    </tr>\n",
       "    <tr>\n",
       "      <th>5</th>\n",
       "      <td>1967</td>\n",
       "      <td>3</td>\n",
       "    </tr>\n",
       "    <tr>\n",
       "      <th>6</th>\n",
       "      <td>1969</td>\n",
       "      <td>3</td>\n",
       "    </tr>\n",
       "    <tr>\n",
       "      <th>7</th>\n",
       "      <td>1970</td>\n",
       "      <td>3</td>\n",
       "    </tr>\n",
       "    <tr>\n",
       "      <th>8</th>\n",
       "      <td>1971</td>\n",
       "      <td>12</td>\n",
       "    </tr>\n",
       "    <tr>\n",
       "      <th>9</th>\n",
       "      <td>1972</td>\n",
       "      <td>2</td>\n",
       "    </tr>\n",
       "    <tr>\n",
       "      <th>10</th>\n",
       "      <td>1973</td>\n",
       "      <td>6</td>\n",
       "    </tr>\n",
       "    <tr>\n",
       "      <th>11</th>\n",
       "      <td>1974</td>\n",
       "      <td>5</td>\n",
       "    </tr>\n",
       "    <tr>\n",
       "      <th>12</th>\n",
       "      <td>1975</td>\n",
       "      <td>10</td>\n",
       "    </tr>\n",
       "    <tr>\n",
       "      <th>13</th>\n",
       "      <td>1976</td>\n",
       "      <td>4</td>\n",
       "    </tr>\n",
       "    <tr>\n",
       "      <th>14</th>\n",
       "      <td>1977</td>\n",
       "      <td>8</td>\n",
       "    </tr>\n",
       "    <tr>\n",
       "      <th>15</th>\n",
       "      <td>1978</td>\n",
       "      <td>7</td>\n",
       "    </tr>\n",
       "    <tr>\n",
       "      <th>16</th>\n",
       "      <td>1979</td>\n",
       "      <td>14</td>\n",
       "    </tr>\n",
       "    <tr>\n",
       "      <th>17</th>\n",
       "      <td>1980</td>\n",
       "      <td>4</td>\n",
       "    </tr>\n",
       "    <tr>\n",
       "      <th>18</th>\n",
       "      <td>1981</td>\n",
       "      <td>16</td>\n",
       "    </tr>\n",
       "    <tr>\n",
       "      <th>19</th>\n",
       "      <td>1982</td>\n",
       "      <td>11</td>\n",
       "    </tr>\n",
       "    <tr>\n",
       "      <th>20</th>\n",
       "      <td>1983</td>\n",
       "      <td>20</td>\n",
       "    </tr>\n",
       "    <tr>\n",
       "      <th>21</th>\n",
       "      <td>1984</td>\n",
       "      <td>17</td>\n",
       "    </tr>\n",
       "    <tr>\n",
       "      <th>22</th>\n",
       "      <td>1985</td>\n",
       "      <td>13</td>\n",
       "    </tr>\n",
       "    <tr>\n",
       "      <th>23</th>\n",
       "      <td>1986</td>\n",
       "      <td>6</td>\n",
       "    </tr>\n",
       "    <tr>\n",
       "      <th>24</th>\n",
       "      <td>1987</td>\n",
       "      <td>21</td>\n",
       "    </tr>\n",
       "    <tr>\n",
       "      <th>25</th>\n",
       "      <td>1988</td>\n",
       "      <td>13</td>\n",
       "    </tr>\n",
       "    <tr>\n",
       "      <th>26</th>\n",
       "      <td>1989</td>\n",
       "      <td>16</td>\n",
       "    </tr>\n",
       "    <tr>\n",
       "      <th>27</th>\n",
       "      <td>1990</td>\n",
       "      <td>22</td>\n",
       "    </tr>\n",
       "    <tr>\n",
       "      <th>28</th>\n",
       "      <td>1991</td>\n",
       "      <td>8</td>\n",
       "    </tr>\n",
       "    <tr>\n",
       "      <th>29</th>\n",
       "      <td>1992</td>\n",
       "      <td>18</td>\n",
       "    </tr>\n",
       "    <tr>\n",
       "      <th>30</th>\n",
       "      <td>1993</td>\n",
       "      <td>26</td>\n",
       "    </tr>\n",
       "    <tr>\n",
       "      <th>31</th>\n",
       "      <td>1994</td>\n",
       "      <td>19</td>\n",
       "    </tr>\n",
       "    <tr>\n",
       "      <th>32</th>\n",
       "      <td>1995</td>\n",
       "      <td>31</td>\n",
       "    </tr>\n",
       "    <tr>\n",
       "      <th>33</th>\n",
       "      <td>1996</td>\n",
       "      <td>49</td>\n",
       "    </tr>\n",
       "    <tr>\n",
       "      <th>34</th>\n",
       "      <td>1997</td>\n",
       "      <td>26</td>\n",
       "    </tr>\n",
       "    <tr>\n",
       "      <th>35</th>\n",
       "      <td>1998</td>\n",
       "      <td>30</td>\n",
       "    </tr>\n",
       "    <tr>\n",
       "      <th>36</th>\n",
       "      <td>1999</td>\n",
       "      <td>59</td>\n",
       "    </tr>\n",
       "    <tr>\n",
       "      <th>37</th>\n",
       "      <td>2000</td>\n",
       "      <td>55</td>\n",
       "    </tr>\n",
       "    <tr>\n",
       "      <th>38</th>\n",
       "      <td>2001</td>\n",
       "      <td>53</td>\n",
       "    </tr>\n",
       "    <tr>\n",
       "      <th>39</th>\n",
       "      <td>2002</td>\n",
       "      <td>89</td>\n",
       "    </tr>\n",
       "    <tr>\n",
       "      <th>40</th>\n",
       "      <td>2003</td>\n",
       "      <td>99</td>\n",
       "    </tr>\n",
       "    <tr>\n",
       "      <th>41</th>\n",
       "      <td>2004</td>\n",
       "      <td>133</td>\n",
       "    </tr>\n",
       "    <tr>\n",
       "      <th>42</th>\n",
       "      <td>2005</td>\n",
       "      <td>193</td>\n",
       "    </tr>\n",
       "    <tr>\n",
       "      <th>43</th>\n",
       "      <td>2006</td>\n",
       "      <td>247</td>\n",
       "    </tr>\n",
       "    <tr>\n",
       "      <th>44</th>\n",
       "      <td>2007</td>\n",
       "      <td>361</td>\n",
       "    </tr>\n",
       "    <tr>\n",
       "      <th>45</th>\n",
       "      <td>2008</td>\n",
       "      <td>360</td>\n",
       "    </tr>\n",
       "    <tr>\n",
       "      <th>46</th>\n",
       "      <td>2009</td>\n",
       "      <td>488</td>\n",
       "    </tr>\n",
       "    <tr>\n",
       "      <th>47</th>\n",
       "      <td>2010</td>\n",
       "      <td>519</td>\n",
       "    </tr>\n",
       "    <tr>\n",
       "      <th>48</th>\n",
       "      <td>2011</td>\n",
       "      <td>534</td>\n",
       "    </tr>\n",
       "    <tr>\n",
       "      <th>49</th>\n",
       "      <td>2012</td>\n",
       "      <td>375</td>\n",
       "    </tr>\n",
       "    <tr>\n",
       "      <th>50</th>\n",
       "      <td>2013</td>\n",
       "      <td>326</td>\n",
       "    </tr>\n",
       "    <tr>\n",
       "      <th>51</th>\n",
       "      <td>2014</td>\n",
       "      <td>358</td>\n",
       "    </tr>\n",
       "    <tr>\n",
       "      <th>52</th>\n",
       "      <td>2015</td>\n",
       "      <td>415</td>\n",
       "    </tr>\n",
       "  </tbody>\n",
       "</table>\n",
       "</div>"
      ],
      "text/plain": [
       "    Year  Number Of Movies\n",
       "0   1961                 2\n",
       "1   1962                 3\n",
       "2   1963                 3\n",
       "3   1964                 5\n",
       "4   1965                 3\n",
       "5   1967                 3\n",
       "6   1969                 3\n",
       "7   1970                 3\n",
       "8   1971                12\n",
       "9   1972                 2\n",
       "10  1973                 6\n",
       "11  1974                 5\n",
       "12  1975                10\n",
       "13  1976                 4\n",
       "14  1977                 8\n",
       "15  1978                 7\n",
       "16  1979                14\n",
       "17  1980                 4\n",
       "18  1981                16\n",
       "19  1982                11\n",
       "20  1983                20\n",
       "21  1984                17\n",
       "22  1985                13\n",
       "23  1986                 6\n",
       "24  1987                21\n",
       "25  1988                13\n",
       "26  1989                16\n",
       "27  1990                22\n",
       "28  1991                 8\n",
       "29  1992                18\n",
       "30  1993                26\n",
       "31  1994                19\n",
       "32  1995                31\n",
       "33  1996                49\n",
       "34  1997                26\n",
       "35  1998                30\n",
       "36  1999                59\n",
       "37  2000                55\n",
       "38  2001                53\n",
       "39  2002                89\n",
       "40  2003                99\n",
       "41  2004               133\n",
       "42  2005               193\n",
       "43  2006               247\n",
       "44  2007               361\n",
       "45  2008               360\n",
       "46  2009               488\n",
       "47  2010               519\n",
       "48  2011               534\n",
       "49  2012               375\n",
       "50  2013               326\n",
       "51  2014               358\n",
       "52  2015               415"
      ]
     },
     "execution_count": 42,
     "metadata": {},
     "output_type": "execute_result"
    }
   ],
   "source": [
    "# Reference: \n",
    "# [https://thispointer.com/python-pandas-how-to-convert-lists-to-a-dataframe/] \n",
    "# [https://kite.com/python/answers/how-to-convert-a-list-of-lists-into-a-pandas-dataframe-in-python]\n",
    "\n",
    "# Converting list into a dataframe \n",
    "column_names = ['Year', 'Number Of Movies']\n",
    "df_amount_of_movies = pd.DataFrame(amount_of_movies, columns = column_names)\n",
    "df_amount_of_movies"
   ]
  },
  {
   "cell_type": "code",
   "execution_count": 43,
   "metadata": {},
   "outputs": [
    {
     "data": {
      "image/png": "[encoded data removed]",
      "text/plain": [
       "<Figure size 432x288 with 1 Axes>"
      ]
     },
     "metadata": {
      "needs_background": "light"
     },
     "output_type": "display_data"
    }
   ],
   "source": [
    "df_amount_of_movies.plot(x = 'Year', y = 'Number Of Movies', kind = 'line');\n",
    "plt.title('Number of Movies Released Per Year');\n",
    "plt.xlabel('Year', fontsize=12);\n",
    "plt.ylabel('Number Of Movies', fontsize=12);"
   ]
  },
  {
   "cell_type": "markdown",
   "metadata": {},
   "source": [
    "#### From the graph above, we can see that the Number Of Movies has increased tremendously throughout the years. \n",
    "#### In the year 2011, a peak was attained of 534 Movies, which is quite evident from the mountainous curve in the graph."
   ]
  },
  {
   "cell_type": "code",
   "execution_count": 44,
   "metadata": {
    "scrolled": true
   },
   "outputs": [
    {
     "data": {
      "image/png": "[encoded data removed]",
      "text/plain": [
       "<Figure size 864x432 with 1 Axes>"
      ]
     },
     "metadata": {
      "needs_background": "light"
     },
     "output_type": "display_data"
    }
   ],
   "source": [
    "df_amount_of_movies.plot(x = 'Year', y = 'Number Of Movies', kind = 'bar', figsize=(12,6));\n",
    "plt.title('Number of Movies Released Per Year');\n",
    "plt.xlabel('Year', fontsize = 14);\n",
    "plt.ylabel('Number Of Movies');"
   ]
  },
  {
   "cell_type": "markdown",
   "metadata": {},
   "source": [
    "#### This graph gives a much more clearer picture and shows that 2011 is the year with the most number of movies released."
   ]
  },
  {
   "cell_type": "markdown",
   "metadata": {},
   "source": [
    "\n",
    "\n",
    "### Research Question 3 (What is the Average Running Time Of All the Movies?)"
   ]
  },
  {
   "cell_type": "code",
   "execution_count": 45,
   "metadata": {},
   "outputs": [
    {
     "data": {
      "text/plain": [
       "106.04016064257029"
      ]
     },
     "execution_count": 45,
     "metadata": {},
     "output_type": "execute_result"
    }
   ],
   "source": [
    "avg_runtime = df['runtime'].mean()\n",
    "avg_runtime"
   ]
  },
  {
   "cell_type": "markdown",
   "metadata": {},
   "source": [
    "The Average Runtime Of All Movies In This Dataset is **106 minutes (1 hour and 46 minutes)** approximately. Let us confirm this by plotting a histogram and take a deeper look at the results."
   ]
  },
  {
   "cell_type": "code",
   "execution_count": 46,
   "metadata": {},
   "outputs": [
    {
     "data": {
      "image/png": "[encoded data removed]",
      "text/plain": [
       "<Figure size 1200x800 with 1 Axes>"
      ]
     },
     "metadata": {
      "needs_background": "light"
     },
     "output_type": "display_data"
    }
   ],
   "source": [
    "# Setting the figure size\n",
    "plt.figure(figsize=(12,8), dpi=100)\n",
    "\n",
    "plt.xlabel('Runtime Of Movies' , fontsize = 12)\n",
    "plt.ylabel('Number Of Movies', fontsize = 12)\n",
    "plt.title('Runtime distribution of Movies')\n",
    "\n",
    "plt.hist(df['runtime'], rwidth = 0.9, bins = 31)\n",
    "\n",
    "# To display the histogram\n",
    "plt.show()"
   ]
  },
  {
   "cell_type": "markdown",
   "metadata": {},
   "source": [
    "#### From the graph above we can clearly see that the Average Running Time of all movies is approximately close to 100 minutes. \n"
   ]
  },
  {
   "cell_type": "markdown",
   "metadata": {},
   "source": [
    "\n",
    "\n",
    "\n",
    "### Research Question 4 (How does the budget changes throughout the years?)"
   ]
  },
  {
   "cell_type": "code",
   "execution_count": 47,
   "metadata": {},
   "outputs": [
    {
     "data": {
      "text/plain": [
       "release_year\n",
       "1961     3000000\n",
       "1962     1100000\n",
       "1963     2500000\n",
       "1964     4000000\n",
       "1965    11000000\n",
       "Name: budget, dtype: int64"
      ]
     },
     "execution_count": 47,
     "metadata": {},
     "output_type": "execute_result"
    }
   ],
   "source": [
    "# Combining released year and budget in a new dataframe using groupby() function\n",
    "combined_year_budget = df.groupby('release_year')['budget'].sum()\n",
    "combined_year_budget.head()"
   ]
  },
  {
   "cell_type": "code",
   "execution_count": 48,
   "metadata": {},
   "outputs": [
    {
     "data": {
      "image/png": "[encoded data removed]",
      "text/plain": [
       "<Figure size 1000x600 with 1 Axes>"
      ]
     },
     "metadata": {
      "needs_background": "light"
     },
     "output_type": "display_data"
    }
   ],
   "source": [
    "# Setting the figure size\n",
    "plt.figure(figsize=(10,6), dpi=100)                           # dpi specifies the size of graph\n",
    "\n",
    "plt.xlabel('Release Year' , fontsize = 12)\n",
    "plt.ylabel('Total Budget (per 100 Million USD)', fontsize = 12)\n",
    "plt.title('Release Year Distribution Vs Budget Spent')\n",
    "\n",
    "# Plotting the dataframe\n",
    "plt.plot(combined_year_budget)\n",
    "\n",
    "# To display the histogram\n",
    "plt.show()"
   ]
  },
  {
   "cell_type": "markdown",
   "metadata": {},
   "source": [
    "#### This graph clearly shows that throughout the years the total budget of the movies has been increasing rapidly and in 2011 it reached to it's maximum potential."
   ]
  },
  {
   "cell_type": "code",
   "execution_count": 49,
   "metadata": {},
   "outputs": [
    {
     "data": {
      "text/plain": [
       "7711134894"
      ]
     },
     "execution_count": 49,
     "metadata": {},
     "output_type": "execute_result"
    }
   ],
   "source": [
    "# Shows the maximum total budget of all movies\n",
    "combined_year_budget.max()"
   ]
  },
  {
   "cell_type": "code",
   "execution_count": 50,
   "metadata": {},
   "outputs": [
    {
     "data": {
      "text/plain": [
       "2011"
      ]
     },
     "execution_count": 50,
     "metadata": {},
     "output_type": "execute_result"
    }
   ],
   "source": [
    "# Confirming using pandas function\n",
    "\n",
    "# Shows in which year Maximum budget was used\n",
    "combined_year_budget.idxmax()"
   ]
  },
  {
   "cell_type": "code",
   "execution_count": 51,
   "metadata": {},
   "outputs": [
    {
     "data": {
      "text/plain": [
       "1970"
      ]
     },
     "execution_count": 51,
     "metadata": {},
     "output_type": "execute_result"
    }
   ],
   "source": [
    "# Checking in which year minimum budget was used.\n",
    "combined_year_budget.idxmin()"
   ]
  },
  {
   "cell_type": "code",
   "execution_count": 52,
   "metadata": {},
   "outputs": [
    {
     "data": {
      "text/html": [
       "<div>\n",
       "<style scoped>\n",
       "    .dataframe tbody tr th:only-of-type {\n",
       "        vertical-align: middle;\n",
       "    }\n",
       "\n",
       "    .dataframe tbody tr th {\n",
       "        vertical-align: top;\n",
       "    }\n",
       "\n",
       "    .dataframe thead th {\n",
       "        text-align: right;\n",
       "    }\n",
       "</style>\n",
       "<table border=\"1\" class=\"dataframe\">\n",
       "  <thead>\n",
       "    <tr style=\"text-align: right;\">\n",
       "      <th></th>\n",
       "      <th>id</th>\n",
       "      <th>popularity</th>\n",
       "      <th>budget</th>\n",
       "      <th>revenue</th>\n",
       "      <th>original_title</th>\n",
       "      <th>cast</th>\n",
       "      <th>director</th>\n",
       "      <th>keywords</th>\n",
       "      <th>runtime</th>\n",
       "      <th>genres</th>\n",
       "      <th>production_companies</th>\n",
       "      <th>release_date</th>\n",
       "      <th>vote_count</th>\n",
       "      <th>vote_average</th>\n",
       "      <th>release_year</th>\n",
       "      <th>budget_adj</th>\n",
       "      <th>revenue_adj</th>\n",
       "    </tr>\n",
       "  </thead>\n",
       "  <tbody>\n",
       "    <tr>\n",
       "      <th>10657</th>\n",
       "      <td>5722</td>\n",
       "      <td>0.374514</td>\n",
       "      <td>0</td>\n",
       "      <td>0</td>\n",
       "      <td>Beyond the Valley of the Dolls</td>\n",
       "      <td>Dolly Read|Cynthia Myers|Marcia McBroom|John L...</td>\n",
       "      <td>Russ Meyer</td>\n",
       "      <td>pop|pop star|musical</td>\n",
       "      <td>109</td>\n",
       "      <td>Comedy|Drama|Thriller</td>\n",
       "      <td>Twentieth Century Fox Film Corporation</td>\n",
       "      <td>7/17/70</td>\n",
       "      <td>19</td>\n",
       "      <td>6.2</td>\n",
       "      <td>1970</td>\n",
       "      <td>0.0</td>\n",
       "      <td>0.0</td>\n",
       "    </tr>\n",
       "  </tbody>\n",
       "</table>\n",
       "</div>"
      ],
      "text/plain": [
       "         id  popularity  budget  revenue                  original_title  \\\n",
       "10657  5722    0.374514       0        0  Beyond the Valley of the Dolls   \n",
       "\n",
       "                                                    cast    director  \\\n",
       "10657  Dolly Read|Cynthia Myers|Marcia McBroom|John L...  Russ Meyer   \n",
       "\n",
       "                   keywords  runtime                 genres  \\\n",
       "10657  pop|pop star|musical      109  Comedy|Drama|Thriller   \n",
       "\n",
       "                         production_companies release_date  vote_count  \\\n",
       "10657  Twentieth Century Fox Film Corporation      7/17/70          19   \n",
       "\n",
       "       vote_average  release_year  budget_adj  revenue_adj  \n",
       "10657           6.2          1970         0.0          0.0  "
      ]
     },
     "execution_count": 52,
     "metadata": {},
     "output_type": "execute_result"
    }
   ],
   "source": [
    "# Retrieving details for the lowest budget movie in 1970\n",
    "min_budget = df.query('release_year == 1970')      \n",
    "min_budget"
   ]
  },
  {
   "cell_type": "code",
   "execution_count": 53,
   "metadata": {},
   "outputs": [
    {
     "data": {
      "text/html": [
       "<div>\n",
       "<style scoped>\n",
       "    .dataframe tbody tr th:only-of-type {\n",
       "        vertical-align: middle;\n",
       "    }\n",
       "\n",
       "    .dataframe tbody tr th {\n",
       "        vertical-align: top;\n",
       "    }\n",
       "\n",
       "    .dataframe thead th {\n",
       "        text-align: right;\n",
       "    }\n",
       "</style>\n",
       "<table border=\"1\" class=\"dataframe\">\n",
       "  <thead>\n",
       "    <tr style=\"text-align: right;\">\n",
       "      <th></th>\n",
       "      <th>id</th>\n",
       "      <th>popularity</th>\n",
       "      <th>budget</th>\n",
       "      <th>revenue</th>\n",
       "      <th>original_title</th>\n",
       "      <th>cast</th>\n",
       "      <th>director</th>\n",
       "      <th>keywords</th>\n",
       "      <th>runtime</th>\n",
       "      <th>genres</th>\n",
       "      <th>production_companies</th>\n",
       "      <th>release_date</th>\n",
       "      <th>vote_count</th>\n",
       "      <th>vote_average</th>\n",
       "      <th>release_year</th>\n",
       "      <th>budget_adj</th>\n",
       "      <th>revenue_adj</th>\n",
       "    </tr>\n",
       "  </thead>\n",
       "  <tbody>\n",
       "    <tr>\n",
       "      <th>3372</th>\n",
       "      <td>1771</td>\n",
       "      <td>7.959228</td>\n",
       "      <td>140000000</td>\n",
       "      <td>370569774</td>\n",
       "      <td>Captain America: The First Avenger</td>\n",
       "      <td>Chris Evans|Hugo Weaving|Tommy Lee Jones|Hayle...</td>\n",
       "      <td>Joe Johnston</td>\n",
       "      <td>new york|usa|world war ii|nazis|marvel comic</td>\n",
       "      <td>124</td>\n",
       "      <td>Action|Adventure|Science Fiction</td>\n",
       "      <td>Marvel Studios</td>\n",
       "      <td>7/22/11</td>\n",
       "      <td>5025</td>\n",
       "      <td>6.5</td>\n",
       "      <td>2011</td>\n",
       "      <td>1.357157e+08</td>\n",
       "      <td>3.592296e+08</td>\n",
       "    </tr>\n",
       "    <tr>\n",
       "      <th>3374</th>\n",
       "      <td>12445</td>\n",
       "      <td>5.711315</td>\n",
       "      <td>125000000</td>\n",
       "      <td>1327817822</td>\n",
       "      <td>Harry Potter and the Deathly Hallows: Part 2</td>\n",
       "      <td>Daniel Radcliffe|Rupert Grint|Emma Watson|Alan...</td>\n",
       "      <td>David Yates</td>\n",
       "      <td>self sacrifice|magic|frog|sorcerer|school</td>\n",
       "      <td>130</td>\n",
       "      <td>Adventure|Family|Fantasy</td>\n",
       "      <td>Warner Bros.|Heyday Films|Moving Picture Compa...</td>\n",
       "      <td>7/7/11</td>\n",
       "      <td>3750</td>\n",
       "      <td>7.7</td>\n",
       "      <td>2011</td>\n",
       "      <td>1.211748e+08</td>\n",
       "      <td>1.287184e+09</td>\n",
       "    </tr>\n",
       "    <tr>\n",
       "      <th>3375</th>\n",
       "      <td>1865</td>\n",
       "      <td>4.955130</td>\n",
       "      <td>380000000</td>\n",
       "      <td>1021683000</td>\n",
       "      <td>Pirates of the Caribbean: On Stranger Tides</td>\n",
       "      <td>Johnny Depp|PenÃ©lope Cruz|Geoffrey Rush|Ian M...</td>\n",
       "      <td>Rob Marshall</td>\n",
       "      <td>sea|captain|mutiny|sword|prime minister</td>\n",
       "      <td>136</td>\n",
       "      <td>Adventure|Action|Fantasy</td>\n",
       "      <td>Walt Disney Pictures|Jerry Bruckheimer Films|M...</td>\n",
       "      <td>5/11/11</td>\n",
       "      <td>3180</td>\n",
       "      <td>6.3</td>\n",
       "      <td>2011</td>\n",
       "      <td>3.683713e+08</td>\n",
       "      <td>9.904175e+08</td>\n",
       "    </tr>\n",
       "    <tr>\n",
       "      <th>3376</th>\n",
       "      <td>61791</td>\n",
       "      <td>4.504530</td>\n",
       "      <td>93000000</td>\n",
       "      <td>482860185</td>\n",
       "      <td>Rise of the Planet of the Apes</td>\n",
       "      <td>Andy Serkis|Karin Konoval|Freida Pinto|James F...</td>\n",
       "      <td>Rupert Wyatt</td>\n",
       "      <td>intelligence|zoo|cage|dystopia|golden gate bridge</td>\n",
       "      <td>105</td>\n",
       "      <td>Thriller|Action|Drama|Science Fiction</td>\n",
       "      <td>20th Century Fox</td>\n",
       "      <td>8/3/11</td>\n",
       "      <td>2578</td>\n",
       "      <td>6.9</td>\n",
       "      <td>2011</td>\n",
       "      <td>9.015402e+07</td>\n",
       "      <td>4.680837e+08</td>\n",
       "    </tr>\n",
       "    <tr>\n",
       "      <th>3377</th>\n",
       "      <td>10195</td>\n",
       "      <td>4.123520</td>\n",
       "      <td>150000000</td>\n",
       "      <td>444115007</td>\n",
       "      <td>Thor</td>\n",
       "      <td>Chris Hemsworth|Natalie Portman|Tom Hiddleston...</td>\n",
       "      <td>Kenneth Branagh</td>\n",
       "      <td>new mexico|banishment|shield|marvel comic|hammer</td>\n",
       "      <td>115</td>\n",
       "      <td>Adventure|Fantasy|Action</td>\n",
       "      <td>Marvel Studios|Marvel Entertainment</td>\n",
       "      <td>4/21/11</td>\n",
       "      <td>4485</td>\n",
       "      <td>6.5</td>\n",
       "      <td>2011</td>\n",
       "      <td>1.454097e+08</td>\n",
       "      <td>4.305242e+08</td>\n",
       "    </tr>\n",
       "    <tr>\n",
       "      <th>...</th>\n",
       "      <td>...</td>\n",
       "      <td>...</td>\n",
       "      <td>...</td>\n",
       "      <td>...</td>\n",
       "      <td>...</td>\n",
       "      <td>...</td>\n",
       "      <td>...</td>\n",
       "      <td>...</td>\n",
       "      <td>...</td>\n",
       "      <td>...</td>\n",
       "      <td>...</td>\n",
       "      <td>...</td>\n",
       "      <td>...</td>\n",
       "      <td>...</td>\n",
       "      <td>...</td>\n",
       "      <td>...</td>\n",
       "      <td>...</td>\n",
       "    </tr>\n",
       "    <tr>\n",
       "      <th>3863</th>\n",
       "      <td>53101</td>\n",
       "      <td>0.084534</td>\n",
       "      <td>0</td>\n",
       "      <td>0</td>\n",
       "      <td>Manborg</td>\n",
       "      <td>Adam Brooks|Adam Camara|Jeremy Gillespie|Steph...</td>\n",
       "      <td>Steven Kostanski</td>\n",
       "      <td>cyborg|dystopic future</td>\n",
       "      <td>75</td>\n",
       "      <td>Horror|Science Fiction</td>\n",
       "      <td>Astron-6 Video International</td>\n",
       "      <td>9/22/11</td>\n",
       "      <td>11</td>\n",
       "      <td>4.7</td>\n",
       "      <td>2011</td>\n",
       "      <td>0.000000e+00</td>\n",
       "      <td>0.000000e+00</td>\n",
       "    </tr>\n",
       "    <tr>\n",
       "      <th>3865</th>\n",
       "      <td>70386</td>\n",
       "      <td>0.082769</td>\n",
       "      <td>0</td>\n",
       "      <td>0</td>\n",
       "      <td>The Devil's Rock</td>\n",
       "      <td>Craig Hall|Matthew Sunderland|Gina Varela|Karl...</td>\n",
       "      <td>Paul Campion</td>\n",
       "      <td>german|nazis|new zealand|black magic|occult</td>\n",
       "      <td>83</td>\n",
       "      <td>Fantasy|Horror|Thriller|War</td>\n",
       "      <td>New Zealand Film Commission|Severe Features|Ch...</td>\n",
       "      <td>7/8/11</td>\n",
       "      <td>11</td>\n",
       "      <td>4.8</td>\n",
       "      <td>2011</td>\n",
       "      <td>0.000000e+00</td>\n",
       "      <td>0.000000e+00</td>\n",
       "    </tr>\n",
       "    <tr>\n",
       "      <th>3878</th>\n",
       "      <td>58492</td>\n",
       "      <td>0.277237</td>\n",
       "      <td>0</td>\n",
       "      <td>621951</td>\n",
       "      <td>The Greatest Movie Ever Sold</td>\n",
       "      <td>Peter Berg|Paul Brennan|Ralph Nader|Brett Ratn...</td>\n",
       "      <td>Morgan Spurlock</td>\n",
       "      <td>comedian|comedy|duringcreditsstinger</td>\n",
       "      <td>90</td>\n",
       "      <td>Comedy|Documentary</td>\n",
       "      <td>Snoot Entertainment</td>\n",
       "      <td>4/22/11</td>\n",
       "      <td>50</td>\n",
       "      <td>6.4</td>\n",
       "      <td>2011</td>\n",
       "      <td>0.000000e+00</td>\n",
       "      <td>6.029181e+05</td>\n",
       "    </tr>\n",
       "    <tr>\n",
       "      <th>3886</th>\n",
       "      <td>202241</td>\n",
       "      <td>0.044221</td>\n",
       "      <td>20000000</td>\n",
       "      <td>0</td>\n",
       "      <td>Mildred Pierce</td>\n",
       "      <td>Kate Winslet|Evan Rachel Wood|Guy Pearce|Mare ...</td>\n",
       "      <td>Todd Haynes</td>\n",
       "      <td>infidelity|business woman|from rags to riches</td>\n",
       "      <td>336</td>\n",
       "      <td>Drama</td>\n",
       "      <td>Home Box Office (HBO)|Metro-Goldwyn-Mayer (MGM)</td>\n",
       "      <td>3/27/11</td>\n",
       "      <td>21</td>\n",
       "      <td>6.6</td>\n",
       "      <td>2011</td>\n",
       "      <td>1.938796e+07</td>\n",
       "      <td>0.000000e+00</td>\n",
       "    </tr>\n",
       "    <tr>\n",
       "      <th>3898</th>\n",
       "      <td>74510</td>\n",
       "      <td>0.066670</td>\n",
       "      <td>0</td>\n",
       "      <td>0</td>\n",
       "      <td>Kevin Hart: Laugh at My Pain</td>\n",
       "      <td>Kevin Hart|Na'im Lynn</td>\n",
       "      <td>Leslie Small|Tim Story</td>\n",
       "      <td>stand up comedy</td>\n",
       "      <td>89</td>\n",
       "      <td>Comedy|Documentary</td>\n",
       "      <td>Comedy Central Films|Codeblack Entertainment|H...</td>\n",
       "      <td>9/9/11</td>\n",
       "      <td>36</td>\n",
       "      <td>7.6</td>\n",
       "      <td>2011</td>\n",
       "      <td>0.000000e+00</td>\n",
       "      <td>0.000000e+00</td>\n",
       "    </tr>\n",
       "  </tbody>\n",
       "</table>\n",
       "<p>219 rows × 17 columns</p>\n",
       "</div>"
      ],
      "text/plain": [
       "          id  popularity     budget     revenue  \\\n",
       "3372    1771    7.959228  140000000   370569774   \n",
       "3374   12445    5.711315  125000000  1327817822   \n",
       "3375    1865    4.955130  380000000  1021683000   \n",
       "3376   61791    4.504530   93000000   482860185   \n",
       "3377   10195    4.123520  150000000   444115007   \n",
       "...      ...         ...        ...         ...   \n",
       "3863   53101    0.084534          0           0   \n",
       "3865   70386    0.082769          0           0   \n",
       "3878   58492    0.277237          0      621951   \n",
       "3886  202241    0.044221   20000000           0   \n",
       "3898   74510    0.066670          0           0   \n",
       "\n",
       "                                    original_title  \\\n",
       "3372            Captain America: The First Avenger   \n",
       "3374  Harry Potter and the Deathly Hallows: Part 2   \n",
       "3375   Pirates of the Caribbean: On Stranger Tides   \n",
       "3376                Rise of the Planet of the Apes   \n",
       "3377                                          Thor   \n",
       "...                                            ...   \n",
       "3863                                       Manborg   \n",
       "3865                              The Devil's Rock   \n",
       "3878                  The Greatest Movie Ever Sold   \n",
       "3886                                Mildred Pierce   \n",
       "3898                  Kevin Hart: Laugh at My Pain   \n",
       "\n",
       "                                                   cast  \\\n",
       "3372  Chris Evans|Hugo Weaving|Tommy Lee Jones|Hayle...   \n",
       "3374  Daniel Radcliffe|Rupert Grint|Emma Watson|Alan...   \n",
       "3375  Johnny Depp|PenÃ©lope Cruz|Geoffrey Rush|Ian M...   \n",
       "3376  Andy Serkis|Karin Konoval|Freida Pinto|James F...   \n",
       "3377  Chris Hemsworth|Natalie Portman|Tom Hiddleston...   \n",
       "...                                                 ...   \n",
       "3863  Adam Brooks|Adam Camara|Jeremy Gillespie|Steph...   \n",
       "3865  Craig Hall|Matthew Sunderland|Gina Varela|Karl...   \n",
       "3878  Peter Berg|Paul Brennan|Ralph Nader|Brett Ratn...   \n",
       "3886  Kate Winslet|Evan Rachel Wood|Guy Pearce|Mare ...   \n",
       "3898                              Kevin Hart|Na'im Lynn   \n",
       "\n",
       "                    director  \\\n",
       "3372            Joe Johnston   \n",
       "3374             David Yates   \n",
       "3375            Rob Marshall   \n",
       "3376            Rupert Wyatt   \n",
       "3377         Kenneth Branagh   \n",
       "...                      ...   \n",
       "3863        Steven Kostanski   \n",
       "3865            Paul Campion   \n",
       "3878         Morgan Spurlock   \n",
       "3886             Todd Haynes   \n",
       "3898  Leslie Small|Tim Story   \n",
       "\n",
       "                                               keywords  runtime  \\\n",
       "3372       new york|usa|world war ii|nazis|marvel comic      124   \n",
       "3374          self sacrifice|magic|frog|sorcerer|school      130   \n",
       "3375            sea|captain|mutiny|sword|prime minister      136   \n",
       "3376  intelligence|zoo|cage|dystopia|golden gate bridge      105   \n",
       "3377   new mexico|banishment|shield|marvel comic|hammer      115   \n",
       "...                                                 ...      ...   \n",
       "3863                             cyborg|dystopic future       75   \n",
       "3865        german|nazis|new zealand|black magic|occult       83   \n",
       "3878               comedian|comedy|duringcreditsstinger       90   \n",
       "3886      infidelity|business woman|from rags to riches      336   \n",
       "3898                                    stand up comedy       89   \n",
       "\n",
       "                                     genres  \\\n",
       "3372       Action|Adventure|Science Fiction   \n",
       "3374               Adventure|Family|Fantasy   \n",
       "3375               Adventure|Action|Fantasy   \n",
       "3376  Thriller|Action|Drama|Science Fiction   \n",
       "3377               Adventure|Fantasy|Action   \n",
       "...                                     ...   \n",
       "3863                 Horror|Science Fiction   \n",
       "3865            Fantasy|Horror|Thriller|War   \n",
       "3878                     Comedy|Documentary   \n",
       "3886                                  Drama   \n",
       "3898                     Comedy|Documentary   \n",
       "\n",
       "                                   production_companies release_date  \\\n",
       "3372                                     Marvel Studios      7/22/11   \n",
       "3374  Warner Bros.|Heyday Films|Moving Picture Compa...       7/7/11   \n",
       "3375  Walt Disney Pictures|Jerry Bruckheimer Films|M...      5/11/11   \n",
       "3376                                   20th Century Fox       8/3/11   \n",
       "3377                Marvel Studios|Marvel Entertainment      4/21/11   \n",
       "...                                                 ...          ...   \n",
       "3863                       Astron-6 Video International      9/22/11   \n",
       "3865  New Zealand Film Commission|Severe Features|Ch...       7/8/11   \n",
       "3878                                Snoot Entertainment      4/22/11   \n",
       "3886    Home Box Office (HBO)|Metro-Goldwyn-Mayer (MGM)      3/27/11   \n",
       "3898  Comedy Central Films|Codeblack Entertainment|H...       9/9/11   \n",
       "\n",
       "      vote_count  vote_average  release_year    budget_adj   revenue_adj  \n",
       "3372        5025           6.5          2011  1.357157e+08  3.592296e+08  \n",
       "3374        3750           7.7          2011  1.211748e+08  1.287184e+09  \n",
       "3375        3180           6.3          2011  3.683713e+08  9.904175e+08  \n",
       "3376        2578           6.9          2011  9.015402e+07  4.680837e+08  \n",
       "3377        4485           6.5          2011  1.454097e+08  4.305242e+08  \n",
       "...          ...           ...           ...           ...           ...  \n",
       "3863          11           4.7          2011  0.000000e+00  0.000000e+00  \n",
       "3865          11           4.8          2011  0.000000e+00  0.000000e+00  \n",
       "3878          50           6.4          2011  0.000000e+00  6.029181e+05  \n",
       "3886          21           6.6          2011  1.938796e+07  0.000000e+00  \n",
       "3898          36           7.6          2011  0.000000e+00  0.000000e+00  \n",
       "\n",
       "[219 rows x 17 columns]"
      ]
     },
     "execution_count": 53,
     "metadata": {},
     "output_type": "execute_result"
    }
   ],
   "source": [
    "# Retrieving details for the maximum budget movies in 2011\n",
    "max_budget = df.query('release_year == 2011')\n",
    "max_budget"
   ]
  },
  {
   "cell_type": "code",
   "execution_count": 54,
   "metadata": {},
   "outputs": [
    {
     "data": {
      "text/plain": [
       "380000000"
      ]
     },
     "execution_count": 54,
     "metadata": {},
     "output_type": "execute_result"
    }
   ],
   "source": [
    "# The maximum budget movie is 380 million dollars USD.\n",
    "max_budget['budget'].max()"
   ]
  },
  {
   "cell_type": "code",
   "execution_count": 55,
   "metadata": {
    "scrolled": true
   },
   "outputs": [
    {
     "data": {
      "text/html": [
       "<div>\n",
       "<style scoped>\n",
       "    .dataframe tbody tr th:only-of-type {\n",
       "        vertical-align: middle;\n",
       "    }\n",
       "\n",
       "    .dataframe tbody tr th {\n",
       "        vertical-align: top;\n",
       "    }\n",
       "\n",
       "    .dataframe thead th {\n",
       "        text-align: right;\n",
       "    }\n",
       "</style>\n",
       "<table border=\"1\" class=\"dataframe\">\n",
       "  <thead>\n",
       "    <tr style=\"text-align: right;\">\n",
       "      <th></th>\n",
       "      <th>id</th>\n",
       "      <th>popularity</th>\n",
       "      <th>budget</th>\n",
       "      <th>revenue</th>\n",
       "      <th>original_title</th>\n",
       "      <th>cast</th>\n",
       "      <th>director</th>\n",
       "      <th>keywords</th>\n",
       "      <th>runtime</th>\n",
       "      <th>genres</th>\n",
       "      <th>production_companies</th>\n",
       "      <th>release_date</th>\n",
       "      <th>vote_count</th>\n",
       "      <th>vote_average</th>\n",
       "      <th>release_year</th>\n",
       "      <th>budget_adj</th>\n",
       "      <th>revenue_adj</th>\n",
       "    </tr>\n",
       "  </thead>\n",
       "  <tbody>\n",
       "    <tr>\n",
       "      <th>3375</th>\n",
       "      <td>1865</td>\n",
       "      <td>4.95513</td>\n",
       "      <td>380000000</td>\n",
       "      <td>1021683000</td>\n",
       "      <td>Pirates of the Caribbean: On Stranger Tides</td>\n",
       "      <td>Johnny Depp|PenÃ©lope Cruz|Geoffrey Rush|Ian M...</td>\n",
       "      <td>Rob Marshall</td>\n",
       "      <td>sea|captain|mutiny|sword|prime minister</td>\n",
       "      <td>136</td>\n",
       "      <td>Adventure|Action|Fantasy</td>\n",
       "      <td>Walt Disney Pictures|Jerry Bruckheimer Films|M...</td>\n",
       "      <td>5/11/11</td>\n",
       "      <td>3180</td>\n",
       "      <td>6.3</td>\n",
       "      <td>2011</td>\n",
       "      <td>3.683713e+08</td>\n",
       "      <td>9.904175e+08</td>\n",
       "    </tr>\n",
       "  </tbody>\n",
       "</table>\n",
       "</div>"
      ],
      "text/plain": [
       "        id  popularity     budget     revenue  \\\n",
       "3375  1865     4.95513  380000000  1021683000   \n",
       "\n",
       "                                   original_title  \\\n",
       "3375  Pirates of the Caribbean: On Stranger Tides   \n",
       "\n",
       "                                                   cast      director  \\\n",
       "3375  Johnny Depp|PenÃ©lope Cruz|Geoffrey Rush|Ian M...  Rob Marshall   \n",
       "\n",
       "                                     keywords  runtime  \\\n",
       "3375  sea|captain|mutiny|sword|prime minister      136   \n",
       "\n",
       "                        genres  \\\n",
       "3375  Adventure|Action|Fantasy   \n",
       "\n",
       "                                   production_companies release_date  \\\n",
       "3375  Walt Disney Pictures|Jerry Bruckheimer Films|M...      5/11/11   \n",
       "\n",
       "      vote_count  vote_average  release_year    budget_adj   revenue_adj  \n",
       "3375        3180           6.3          2011  3.683713e+08  9.904175e+08  "
      ]
     },
     "execution_count": 55,
     "metadata": {},
     "output_type": "execute_result"
    }
   ],
   "source": [
    "# Finding the maximum budget movie throughout these years\n",
    "maximum_budget_movie = max_budget.query('budget == 380000000')\n",
    "maximum_budget_movie"
   ]
  },
  {
   "cell_type": "markdown",
   "metadata": {},
   "source": [
    "#### Pirates of the Caribbean: On Stranger Tides is the maximum budget movie throughout all the years. (Verified by Google also)"
   ]
  },
  {
   "cell_type": "code",
   "execution_count": 56,
   "metadata": {},
   "outputs": [
    {
     "data": {
      "image/png": "[encoded data removed]",
      "text/plain": [
       "<IPython.core.display.Image object>"
      ]
     },
     "execution_count": 56,
     "metadata": {},
     "output_type": "execute_result"
    }
   ],
   "source": [
    "from IPython.display import Image\n",
    "Image(filename='budgetmovie.png')"
   ]
  },
  {
   "cell_type": "markdown",
   "metadata": {},
   "source": [
    "**Our predictions of data can also be verified by Google**"
   ]
  },
  {
   "cell_type": "markdown",
   "metadata": {},
   "source": [
    "### Research Question 5  (What should be an appropriate budget for a movie to succeed?)"
   ]
  },
  {
   "cell_type": "code",
   "execution_count": 57,
   "metadata": {},
   "outputs": [
    {
     "data": {
      "image/png": "[encoded data removed]",
      "text/plain": [
       "<Figure size 432x288 with 1 Axes>"
      ]
     },
     "metadata": {
      "needs_background": "light"
     },
     "output_type": "display_data"
    }
   ],
   "source": [
    "# Plotting a scatter plot \n",
    "df.plot(x='budget',y='popularity', kind='scatter', title='Movies Popularity Vs Movies Budget');"
   ]
  },
  {
   "cell_type": "markdown",
   "metadata": {},
   "source": [
    "#### After studying the above graph, we can make some important and useful deductions. We can say, it's not necessary to have a higher budget for a movie to have a higher popularity. \n",
    "\n",
    "#### The maximum popularity is approximately 32"
   ]
  },
  {
   "cell_type": "code",
   "execution_count": 58,
   "metadata": {},
   "outputs": [],
   "source": [
    "# To compare results with entries of popularity greater than 10\n",
    "df_popularity_10 = df[df['popularity'] >= 10]"
   ]
  },
  {
   "cell_type": "code",
   "execution_count": 59,
   "metadata": {},
   "outputs": [
    {
     "data": {
      "text/plain": [
       "count    11.000000\n",
       "mean     16.572452\n",
       "std       8.131291\n",
       "min      10.174599\n",
       "25%      11.297928\n",
       "50%      12.971027\n",
       "75%      19.630170\n",
       "max      32.985763\n",
       "Name: popularity, dtype: float64"
      ]
     },
     "execution_count": 59,
     "metadata": {},
     "output_type": "execute_result"
    }
   ],
   "source": [
    "df_popularity_10['popularity'].describe()"
   ]
  },
  {
   "cell_type": "code",
   "execution_count": 60,
   "metadata": {},
   "outputs": [
    {
     "data": {
      "image/png": "[encoded data removed]",
      "text/plain": [
       "<Figure size 432x288 with 1 Axes>"
      ]
     },
     "metadata": {
      "needs_background": "light"
     },
     "output_type": "display_data"
    }
   ],
   "source": [
    "# Plotting a scatter plot \n",
    "df_popularity_10.plot(x='budget',y='popularity', kind='scatter', title='Movies Popularity Vs Movies Budget');"
   ]
  },
  {
   "cell_type": "markdown",
   "metadata": {},
   "source": [
    "#### This scatter plot gives us a better and a clean look at the Movies Popularity and Movies Budget. In this scatter plot we can see moderate correlation and those movies whose budget is approximately between 1.5 million dollars to 2.0 million dollars have a significantly higher popularity. Hence, this can be said as a suitable budget for  movies to succeed."
   ]
  },
  {
   "cell_type": "code",
   "execution_count": 61,
   "metadata": {},
   "outputs": [
    {
     "data": {
      "text/plain": [
       "count    1.992000e+03\n",
       "mean     3.454924e+07\n",
       "std      5.061878e+07\n",
       "min      0.000000e+00\n",
       "25%      0.000000e+00\n",
       "50%      1.500000e+07\n",
       "75%      4.800000e+07\n",
       "max      4.250000e+08\n",
       "Name: budget, dtype: float64"
      ]
     },
     "execution_count": 61,
     "metadata": {},
     "output_type": "execute_result"
    }
   ],
   "source": [
    "# Summary statistics for budget of a movie\n",
    "df['budget'].describe()"
   ]
  },
  {
   "cell_type": "markdown",
   "metadata": {},
   "source": [
    "<a id='reg'></a>\n",
    "## Linear Regression Model\n",
    "\n",
    "\n",
    "\n",
    "#### To predict the total number of movies produced for each year using linear regression"
   ]
  },
  {
   "cell_type": "code",
   "execution_count": 62,
   "metadata": {},
   "outputs": [],
   "source": [
    "from sklearn.linear_model import LinearRegression"
   ]
  },
  {
   "cell_type": "code",
   "execution_count": 63,
   "metadata": {},
   "outputs": [
    {
     "data": {
      "text/html": [
       "<div>\n",
       "<style scoped>\n",
       "    .dataframe tbody tr th:only-of-type {\n",
       "        vertical-align: middle;\n",
       "    }\n",
       "\n",
       "    .dataframe tbody tr th {\n",
       "        vertical-align: top;\n",
       "    }\n",
       "\n",
       "    .dataframe thead th {\n",
       "        text-align: right;\n",
       "    }\n",
       "</style>\n",
       "<table border=\"1\" class=\"dataframe\">\n",
       "  <thead>\n",
       "    <tr style=\"text-align: right;\">\n",
       "      <th></th>\n",
       "      <th>Year</th>\n",
       "      <th>Number Of Movies</th>\n",
       "    </tr>\n",
       "  </thead>\n",
       "  <tbody>\n",
       "    <tr>\n",
       "      <th>43</th>\n",
       "      <td>2006</td>\n",
       "      <td>247</td>\n",
       "    </tr>\n",
       "    <tr>\n",
       "      <th>44</th>\n",
       "      <td>2007</td>\n",
       "      <td>361</td>\n",
       "    </tr>\n",
       "    <tr>\n",
       "      <th>45</th>\n",
       "      <td>2008</td>\n",
       "      <td>360</td>\n",
       "    </tr>\n",
       "    <tr>\n",
       "      <th>46</th>\n",
       "      <td>2009</td>\n",
       "      <td>488</td>\n",
       "    </tr>\n",
       "    <tr>\n",
       "      <th>47</th>\n",
       "      <td>2010</td>\n",
       "      <td>519</td>\n",
       "    </tr>\n",
       "    <tr>\n",
       "      <th>48</th>\n",
       "      <td>2011</td>\n",
       "      <td>534</td>\n",
       "    </tr>\n",
       "    <tr>\n",
       "      <th>49</th>\n",
       "      <td>2012</td>\n",
       "      <td>375</td>\n",
       "    </tr>\n",
       "    <tr>\n",
       "      <th>50</th>\n",
       "      <td>2013</td>\n",
       "      <td>326</td>\n",
       "    </tr>\n",
       "    <tr>\n",
       "      <th>51</th>\n",
       "      <td>2014</td>\n",
       "      <td>358</td>\n",
       "    </tr>\n",
       "    <tr>\n",
       "      <th>52</th>\n",
       "      <td>2015</td>\n",
       "      <td>415</td>\n",
       "    </tr>\n",
       "  </tbody>\n",
       "</table>\n",
       "</div>"
      ],
      "text/plain": [
       "    Year  Number Of Movies\n",
       "43  2006               247\n",
       "44  2007               361\n",
       "45  2008               360\n",
       "46  2009               488\n",
       "47  2010               519\n",
       "48  2011               534\n",
       "49  2012               375\n",
       "50  2013               326\n",
       "51  2014               358\n",
       "52  2015               415"
      ]
     },
     "execution_count": 63,
     "metadata": {},
     "output_type": "execute_result"
    }
   ],
   "source": [
    "# To anlayze the dataframe first wrt Year and number of movies\n",
    "df_amount_of_movies.tail(10)"
   ]
  },
  {
   "cell_type": "code",
   "execution_count": 64,
   "metadata": {},
   "outputs": [
    {
     "data": {
      "text/plain": [
       "LinearRegression()"
      ]
     },
     "execution_count": 64,
     "metadata": {},
     "output_type": "execute_result"
    }
   ],
   "source": [
    "# Feature selection and training the model\n",
    "X = df_amount_of_movies['Year'].values\n",
    "Y = df_amount_of_movies['Number Of Movies'].values\n",
    "linreg = LinearRegression()\n",
    "X = X.reshape(-1,1)\n",
    "linreg.fit(X, Y)"
   ]
  },
  {
   "cell_type": "code",
   "execution_count": 65,
   "metadata": {},
   "outputs": [
    {
     "data": {
      "text/plain": [
       "array([327.7967386])"
      ]
     },
     "execution_count": 65,
     "metadata": {},
     "output_type": "execute_result"
    }
   ],
   "source": [
    "# Predicting results\n",
    "linreg.predict([[2020]])"
   ]
  },
  {
   "cell_type": "markdown",
   "metadata": {},
   "source": [
    "**Our model accurately predicts that on year 2020, the number of movies will increase and become approximately 327**"
   ]
  },
  {
   "cell_type": "code",
   "execution_count": 66,
   "metadata": {},
   "outputs": [
    {
     "data": {
      "text/plain": [
       "array([7.40642512])"
      ]
     },
     "execution_count": 66,
     "metadata": {},
     "output_type": "execute_result"
    }
   ],
   "source": [
    "linreg.coef_"
   ]
  },
  {
   "cell_type": "code",
   "execution_count": 67,
   "metadata": {
    "scrolled": true
   },
   "outputs": [
    {
     "data": {
      "image/png": "[encoded data removed]",
      "text/plain": [
       "<IPython.core.display.Image object>"
      ]
     },
     "execution_count": 67,
     "metadata": {},
     "output_type": "execute_result"
    }
   ],
   "source": [
    "from IPython.display import Image\n",
    "Image(filename='moviesreleased.png')"
   ]
  },
  {
   "cell_type": "markdown",
   "metadata": {},
   "source": [
    "**Our model seems to be quite accurate as Google suggests 329 movies were released in 2020, while our model suggested ~328 movies. This shows our Linear Regression model is quite accurate in predicting movies released each year**"
   ]
  },
  {
   "cell_type": "markdown",
   "metadata": {},
   "source": [
    "## Linear Regression Model (2)\n",
    "\n",
    "#### Using linear regression to predict movies popularity with respect to their budget"
   ]
  },
  {
   "cell_type": "code",
   "execution_count": 68,
   "metadata": {},
   "outputs": [],
   "source": [
    "# Selecting X and Y variables for our model\n",
    "X = df[['budget']]\n",
    "Y = df['popularity']"
   ]
  },
  {
   "cell_type": "code",
   "execution_count": 69,
   "metadata": {},
   "outputs": [
    {
     "data": {
      "text/plain": [
       "(1394, 1)"
      ]
     },
     "execution_count": 69,
     "metadata": {},
     "output_type": "execute_result"
    }
   ],
   "source": [
    "from sklearn.model_selection import train_test_split\n",
    "X_train, X_test, y_train, y_test = train_test_split(X, Y, random_state=1, test_size=0.3)      # 30/70 splitting\n",
    "X_train.shape"
   ]
  },
  {
   "cell_type": "code",
   "execution_count": 70,
   "metadata": {},
   "outputs": [
    {
     "name": "stdout",
     "output_type": "stream",
     "text": [
      "Models intercept =  0.6673975266393849\n",
      "Models coefficient =  1.891851709717961e-08\n"
     ]
    }
   ],
   "source": [
    "linreg = LinearRegression()\n",
    "# Training the model\n",
    "model = linreg.fit(X_train, y_train)\n",
    "y_pred = linreg.predict(X_test)\n",
    "\n",
    "# print the intercept and coefficients\n",
    "print('Models intercept = ',model.intercept_)\n",
    "print('Models coefficient = ',model.coef_[0])"
   ]
  },
  {
   "cell_type": "code",
   "execution_count": 71,
   "metadata": {},
   "outputs": [
    {
     "name": "stdout",
     "output_type": "stream",
     "text": [
      "[5.96458231]\n"
     ]
    }
   ],
   "source": [
    "print(model.predict([[280000000]]))"
   ]
  },
  {
   "cell_type": "markdown",
   "metadata": {},
   "source": [
    "Our model predicted that for a *$280* million dollar movie budget, the popularity of that movie could be *~6*."
   ]
  },
  {
   "cell_type": "code",
   "execution_count": 72,
   "metadata": {},
   "outputs": [
    {
     "data": {
      "image/png": "[encoded data removed]",
      "text/plain": [
       "<Figure size 432x288 with 1 Axes>"
      ]
     },
     "metadata": {
      "needs_background": "light"
     },
     "output_type": "display_data"
    }
   ],
   "source": [
    "plt.scatter(X,Y)\n",
    "plt.xlabel('Budget', fontsize= 13)\n",
    "plt.ylabel('Popularity', fontsize= 13)\n",
    "plt.title('Regression between Movies Popularity and Budget', fontsize=15)\n",
    "plt.plot(X_test, y_pred, color='red')\n",
    "plt.show()"
   ]
  },
  {
   "cell_type": "markdown",
   "metadata": {},
   "source": [
    "With this regression model, we can easily predict popularity of a new movie based on the amount of budget used by the director"
   ]
  },
  {
   "cell_type": "code",
   "execution_count": 73,
   "metadata": {},
   "outputs": [
    {
     "name": "stdout",
     "output_type": "stream",
     "text": [
      "Mean squared error =  2.883711875221307\n"
     ]
    }
   ],
   "source": [
    "from sklearn.metrics import mean_squared_error\n",
    "MSE = mean_squared_error(y_test, y_pred)\n",
    "print('Mean squared error = ', MSE)"
   ]
  },
  {
   "cell_type": "code",
   "execution_count": 74,
   "metadata": {},
   "outputs": [
    {
     "name": "stdout",
     "output_type": "stream",
     "text": [
      "Root mean squared error =  1.6981495444221946\n"
     ]
    }
   ],
   "source": [
    "# For root mean squared error\n",
    "import math\n",
    "RMSE = math.sqrt(MSE)\n",
    "print('Root mean squared error = ',RMSE)"
   ]
  },
  {
   "cell_type": "markdown",
   "metadata": {},
   "source": [
    "The lower the RMSE, the more accurate our model is."
   ]
  },
  {
   "cell_type": "markdown",
   "metadata": {},
   "source": [
    "<a id='rec'></a>\n",
    "## Movie Recommendation System using Keywords"
   ]
  },
  {
   "cell_type": "code",
   "execution_count": 75,
   "metadata": {},
   "outputs": [
    {
     "data": {
      "text/html": [
       "<div>\n",
       "<style scoped>\n",
       "    .dataframe tbody tr th:only-of-type {\n",
       "        vertical-align: middle;\n",
       "    }\n",
       "\n",
       "    .dataframe tbody tr th {\n",
       "        vertical-align: top;\n",
       "    }\n",
       "\n",
       "    .dataframe thead th {\n",
       "        text-align: right;\n",
       "    }\n",
       "</style>\n",
       "<table border=\"1\" class=\"dataframe\">\n",
       "  <thead>\n",
       "    <tr style=\"text-align: right;\">\n",
       "      <th></th>\n",
       "      <th>original_title</th>\n",
       "      <th>keywords</th>\n",
       "    </tr>\n",
       "  </thead>\n",
       "  <tbody>\n",
       "    <tr>\n",
       "      <th>0</th>\n",
       "      <td>Jurassic World</td>\n",
       "      <td>monster|dna|tyrannosaurus rex|velociraptor|island</td>\n",
       "    </tr>\n",
       "    <tr>\n",
       "      <th>1</th>\n",
       "      <td>Mad Max: Fury Road</td>\n",
       "      <td>future|chase|post-apocalyptic|dystopia|australia</td>\n",
       "    </tr>\n",
       "    <tr>\n",
       "      <th>2</th>\n",
       "      <td>Insurgent</td>\n",
       "      <td>based on novel|revolution|dystopia|sequel|dyst...</td>\n",
       "    </tr>\n",
       "    <tr>\n",
       "      <th>3</th>\n",
       "      <td>Star Wars: The Force Awakens</td>\n",
       "      <td>android|spaceship|jedi|space opera|3d</td>\n",
       "    </tr>\n",
       "    <tr>\n",
       "      <th>4</th>\n",
       "      <td>Furious 7</td>\n",
       "      <td>car race|speed|revenge|suspense|car</td>\n",
       "    </tr>\n",
       "    <tr>\n",
       "      <th>5</th>\n",
       "      <td>The Revenant</td>\n",
       "      <td>father-son relationship|rape|based on novel|mo...</td>\n",
       "    </tr>\n",
       "    <tr>\n",
       "      <th>6</th>\n",
       "      <td>Terminator Genisys</td>\n",
       "      <td>saving the world|artificial intelligence|cybor...</td>\n",
       "    </tr>\n",
       "    <tr>\n",
       "      <th>7</th>\n",
       "      <td>The Martian</td>\n",
       "      <td>based on novel|mars|nasa|isolation|botanist</td>\n",
       "    </tr>\n",
       "    <tr>\n",
       "      <th>8</th>\n",
       "      <td>Minions</td>\n",
       "      <td>assistant|aftercreditsstinger|duringcreditssti...</td>\n",
       "    </tr>\n",
       "    <tr>\n",
       "      <th>9</th>\n",
       "      <td>Inside Out</td>\n",
       "      <td>dream|cartoon|imaginary friend|animation|kid</td>\n",
       "    </tr>\n",
       "    <tr>\n",
       "      <th>10</th>\n",
       "      <td>Spectre</td>\n",
       "      <td>spy|based on novel|secret agent|sequel|james bond</td>\n",
       "    </tr>\n",
       "    <tr>\n",
       "      <th>11</th>\n",
       "      <td>Jupiter Ascending</td>\n",
       "      <td>jupiter|space|woman director|3d|interspecies r...</td>\n",
       "    </tr>\n",
       "    <tr>\n",
       "      <th>12</th>\n",
       "      <td>Ex Machina</td>\n",
       "      <td>dancing|artificial intelligence|helicopter|dis...</td>\n",
       "    </tr>\n",
       "    <tr>\n",
       "      <th>13</th>\n",
       "      <td>Pixels</td>\n",
       "      <td>video game|nerd|alien attack|3d|pixels</td>\n",
       "    </tr>\n",
       "    <tr>\n",
       "      <th>14</th>\n",
       "      <td>Avengers: Age of Ultron</td>\n",
       "      <td>marvel comic|comic|sequel|superhero|vision</td>\n",
       "    </tr>\n",
       "    <tr>\n",
       "      <th>15</th>\n",
       "      <td>The Hateful Eight</td>\n",
       "      <td>bounty hunter|wyoming|mountains|hangman|voice ...</td>\n",
       "    </tr>\n",
       "    <tr>\n",
       "      <th>16</th>\n",
       "      <td>Taken 3</td>\n",
       "      <td>revenge|murder|on the run|fugitive|framed</td>\n",
       "    </tr>\n",
       "    <tr>\n",
       "      <th>17</th>\n",
       "      <td>Ant-Man</td>\n",
       "      <td>marvel comic|superhero|aftercreditsstinger|dur...</td>\n",
       "    </tr>\n",
       "    <tr>\n",
       "      <th>18</th>\n",
       "      <td>Cinderella</td>\n",
       "      <td>cinderella|magic|fairy tale|princess|shoe</td>\n",
       "    </tr>\n",
       "    <tr>\n",
       "      <th>19</th>\n",
       "      <td>The Hunger Games: Mockingjay - Part 2</td>\n",
       "      <td>revolution|strong woman|dystopia|game of death|3d</td>\n",
       "    </tr>\n",
       "    <tr>\n",
       "      <th>20</th>\n",
       "      <td>Tomorrowland</td>\n",
       "      <td>inventor|apocalypse|destiny|imax|dreamer</td>\n",
       "    </tr>\n",
       "    <tr>\n",
       "      <th>21</th>\n",
       "      <td>Southpaw</td>\n",
       "      <td>sport</td>\n",
       "    </tr>\n",
       "    <tr>\n",
       "      <th>22</th>\n",
       "      <td>San Andreas</td>\n",
       "      <td>california|earthquake|catastrophe|disaster fil...</td>\n",
       "    </tr>\n",
       "    <tr>\n",
       "      <th>23</th>\n",
       "      <td>Fifty Shades of Grey</td>\n",
       "      <td>based on novel|billionaire|bdsm|woman director...</td>\n",
       "    </tr>\n",
       "    <tr>\n",
       "      <th>24</th>\n",
       "      <td>The Big Short</td>\n",
       "      <td>bank|fraud|biography|wall street|finances</td>\n",
       "    </tr>\n",
       "    <tr>\n",
       "      <th>25</th>\n",
       "      <td>Mission: Impossible - Rogue Nation</td>\n",
       "      <td>spy|sequel|mission</td>\n",
       "    </tr>\n",
       "    <tr>\n",
       "      <th>26</th>\n",
       "      <td>Ted 2</td>\n",
       "      <td>sperm bank|sequel|buddy|courthouse|teddy bear</td>\n",
       "    </tr>\n",
       "    <tr>\n",
       "      <th>27</th>\n",
       "      <td>Kingsman: The Secret Service</td>\n",
       "      <td>spy|great britain|secret organization|secret a...</td>\n",
       "    </tr>\n",
       "    <tr>\n",
       "      <th>28</th>\n",
       "      <td>Spotlight</td>\n",
       "      <td>child abuse|journalism|judge|florida|boston</td>\n",
       "    </tr>\n",
       "    <tr>\n",
       "      <th>29</th>\n",
       "      <td>Maze Runner: The Scorch Trials</td>\n",
       "      <td>based on novel|resistance|maze|post-apocalypti...</td>\n",
       "    </tr>\n",
       "  </tbody>\n",
       "</table>\n",
       "</div>"
      ],
      "text/plain": [
       "                           original_title  \\\n",
       "0                          Jurassic World   \n",
       "1                      Mad Max: Fury Road   \n",
       "2                               Insurgent   \n",
       "3            Star Wars: The Force Awakens   \n",
       "4                               Furious 7   \n",
       "5                            The Revenant   \n",
       "6                      Terminator Genisys   \n",
       "7                             The Martian   \n",
       "8                                 Minions   \n",
       "9                              Inside Out   \n",
       "10                                Spectre   \n",
       "11                      Jupiter Ascending   \n",
       "12                             Ex Machina   \n",
       "13                                 Pixels   \n",
       "14                Avengers: Age of Ultron   \n",
       "15                      The Hateful Eight   \n",
       "16                                Taken 3   \n",
       "17                                Ant-Man   \n",
       "18                             Cinderella   \n",
       "19  The Hunger Games: Mockingjay - Part 2   \n",
       "20                           Tomorrowland   \n",
       "21                               Southpaw   \n",
       "22                            San Andreas   \n",
       "23                   Fifty Shades of Grey   \n",
       "24                          The Big Short   \n",
       "25     Mission: Impossible - Rogue Nation   \n",
       "26                                  Ted 2   \n",
       "27           Kingsman: The Secret Service   \n",
       "28                              Spotlight   \n",
       "29         Maze Runner: The Scorch Trials   \n",
       "\n",
       "                                             keywords  \n",
       "0   monster|dna|tyrannosaurus rex|velociraptor|island  \n",
       "1    future|chase|post-apocalyptic|dystopia|australia  \n",
       "2   based on novel|revolution|dystopia|sequel|dyst...  \n",
       "3               android|spaceship|jedi|space opera|3d  \n",
       "4                 car race|speed|revenge|suspense|car  \n",
       "5   father-son relationship|rape|based on novel|mo...  \n",
       "6   saving the world|artificial intelligence|cybor...  \n",
       "7         based on novel|mars|nasa|isolation|botanist  \n",
       "8   assistant|aftercreditsstinger|duringcreditssti...  \n",
       "9        dream|cartoon|imaginary friend|animation|kid  \n",
       "10  spy|based on novel|secret agent|sequel|james bond  \n",
       "11  jupiter|space|woman director|3d|interspecies r...  \n",
       "12  dancing|artificial intelligence|helicopter|dis...  \n",
       "13             video game|nerd|alien attack|3d|pixels  \n",
       "14         marvel comic|comic|sequel|superhero|vision  \n",
       "15  bounty hunter|wyoming|mountains|hangman|voice ...  \n",
       "16          revenge|murder|on the run|fugitive|framed  \n",
       "17  marvel comic|superhero|aftercreditsstinger|dur...  \n",
       "18          cinderella|magic|fairy tale|princess|shoe  \n",
       "19  revolution|strong woman|dystopia|game of death|3d  \n",
       "20           inventor|apocalypse|destiny|imax|dreamer  \n",
       "21                                              sport  \n",
       "22  california|earthquake|catastrophe|disaster fil...  \n",
       "23  based on novel|billionaire|bdsm|woman director...  \n",
       "24          bank|fraud|biography|wall street|finances  \n",
       "25                                 spy|sequel|mission  \n",
       "26      sperm bank|sequel|buddy|courthouse|teddy bear  \n",
       "27  spy|great britain|secret organization|secret a...  \n",
       "28        child abuse|journalism|judge|florida|boston  \n",
       "29  based on novel|resistance|maze|post-apocalypti...  "
      ]
     },
     "execution_count": 75,
     "metadata": {},
     "output_type": "execute_result"
    }
   ],
   "source": [
    "# Loading the original dataframe again to avoid anomalies in rows\n",
    "combination = pd.read_csv('tmdb-movies.csv')\n",
    "combination = combination[['original_title','keywords']]\n",
    "combination.head(30)"
   ]
  },
  {
   "cell_type": "code",
   "execution_count": 76,
   "metadata": {},
   "outputs": [
    {
     "name": "stdout",
     "output_type": "stream",
     "text": [
      "Enter the movie name (WARNING CASE SENSITIVE): \n",
      "INVALID! Enter movie name again (WARNING CASE SENSITIVE): Terminator Genisys\n"
     ]
    }
   ],
   "source": [
    "movie = str(input('Enter the movie name (WARNING CASE SENSITIVE): '))\n",
    "\n",
    "# To check whether df is empty or not\n",
    "while combination[combination['original_title'] == movie]['keywords'].empty is True:\n",
    "    movie = str(input('INVALID! Enter movie name again (WARNING CASE SENSITIVE): '))"
   ]
  },
  {
   "cell_type": "code",
   "execution_count": 77,
   "metadata": {},
   "outputs": [
    {
     "name": "stderr",
     "output_type": "stream",
     "text": [
      "D:\\Users\\User\\Anaconda3\\lib\\site-packages\\ipykernel_launcher.py:2: FutureWarning: The default value of regex will change from True to False in a future version. In addition, single character regular expressions will*not* be treated as literal strings when regex=True.\n",
      "  \n"
     ]
    },
    {
     "data": {
      "text/html": [
       "<div>\n",
       "<style scoped>\n",
       "    .dataframe tbody tr th:only-of-type {\n",
       "        vertical-align: middle;\n",
       "    }\n",
       "\n",
       "    .dataframe tbody tr th {\n",
       "        vertical-align: top;\n",
       "    }\n",
       "\n",
       "    .dataframe thead th {\n",
       "        text-align: right;\n",
       "    }\n",
       "</style>\n",
       "<table border=\"1\" class=\"dataframe\">\n",
       "  <thead>\n",
       "    <tr style=\"text-align: right;\">\n",
       "      <th></th>\n",
       "      <th>0</th>\n",
       "      <th>1</th>\n",
       "      <th>2</th>\n",
       "      <th>3</th>\n",
       "      <th>4</th>\n",
       "      <th>5</th>\n",
       "    </tr>\n",
       "    <tr>\n",
       "      <th>index</th>\n",
       "      <th></th>\n",
       "      <th></th>\n",
       "      <th></th>\n",
       "      <th></th>\n",
       "      <th></th>\n",
       "      <th></th>\n",
       "    </tr>\n",
       "  </thead>\n",
       "  <tbody>\n",
       "    <tr>\n",
       "      <th>0</th>\n",
       "      <td>monster</td>\n",
       "      <td>dna</td>\n",
       "      <td>tyrannosaurus rex</td>\n",
       "      <td>velociraptor</td>\n",
       "      <td>island</td>\n",
       "      <td>None</td>\n",
       "    </tr>\n",
       "    <tr>\n",
       "      <th>1</th>\n",
       "      <td>future</td>\n",
       "      <td>chase</td>\n",
       "      <td>post-apocalyptic</td>\n",
       "      <td>dystopia</td>\n",
       "      <td>australia</td>\n",
       "      <td>None</td>\n",
       "    </tr>\n",
       "    <tr>\n",
       "      <th>2</th>\n",
       "      <td>based on novel</td>\n",
       "      <td>revolution</td>\n",
       "      <td>dystopia</td>\n",
       "      <td>sequel</td>\n",
       "      <td>dystopic future</td>\n",
       "      <td>None</td>\n",
       "    </tr>\n",
       "    <tr>\n",
       "      <th>3</th>\n",
       "      <td>android</td>\n",
       "      <td>spaceship</td>\n",
       "      <td>jedi</td>\n",
       "      <td>space opera</td>\n",
       "      <td>3d</td>\n",
       "      <td>None</td>\n",
       "    </tr>\n",
       "    <tr>\n",
       "      <th>4</th>\n",
       "      <td>car race</td>\n",
       "      <td>speed</td>\n",
       "      <td>revenge</td>\n",
       "      <td>suspense</td>\n",
       "      <td>car</td>\n",
       "      <td>None</td>\n",
       "    </tr>\n",
       "  </tbody>\n",
       "</table>\n",
       "</div>"
      ],
      "text/plain": [
       "                    0           1                  2             3  \\\n",
       "index                                                                \n",
       "0             monster         dna  tyrannosaurus rex  velociraptor   \n",
       "1              future       chase   post-apocalyptic      dystopia   \n",
       "2      based on novel  revolution           dystopia        sequel   \n",
       "3             android   spaceship               jedi   space opera   \n",
       "4            car race       speed            revenge      suspense   \n",
       "\n",
       "                     4     5  \n",
       "index                         \n",
       "0               island  None  \n",
       "1            australia  None  \n",
       "2      dystopic future  None  \n",
       "3                   3d  None  \n",
       "4                  car  None  "
      ]
     },
     "execution_count": 77,
     "metadata": {},
     "output_type": "execute_result"
    }
   ],
   "source": [
    "# Removing '|' and replacing with ','\n",
    "combination['keywords']= combination['keywords'].str.replace(r'|', ',')\n",
    "\n",
    "# Splitting the string column into 5 different keyword column\n",
    "new = combination.keywords.str.split(\",\", n = 5, expand = True)\n",
    "\n",
    "# Renaming index column to index\n",
    "new.index.name = 'index'\n",
    "\n",
    "new.head()"
   ]
  },
  {
   "cell_type": "code",
   "execution_count": 78,
   "metadata": {},
   "outputs": [
    {
     "name": "stdout",
     "output_type": "stream",
     "text": [
      "The movie index is:  6\n"
     ]
    },
    {
     "data": {
      "text/plain": [
       "0           saving the world\n",
       "1    artificial intelligence\n",
       "2                     cyborg\n",
       "3               killer robot\n",
       "4                     future\n",
       "5                       None\n",
       "Name: 6, dtype: object"
      ]
     },
     "execution_count": 78,
     "metadata": {},
     "output_type": "execute_result"
    }
   ],
   "source": [
    "# To get index of the movie\n",
    "\n",
    "movie_index = combination.index[combination['original_title'] == movie].tolist()\n",
    "movie_index = movie_index[0]  # to convert to integer\n",
    "print('The movie index is: ',movie_index)\n",
    "\n",
    "# To get row of the movie\n",
    "row_movie = new.iloc[movie_index]                     \n",
    "row_movie"
   ]
  },
  {
   "cell_type": "code",
   "execution_count": 79,
   "metadata": {},
   "outputs": [
    {
     "data": {
      "text/plain": [
       "('saving the world', 'artificial intelligence', 'cyborg', 'killer robot')"
      ]
     },
     "execution_count": 79,
     "metadata": {},
     "output_type": "execute_result"
    }
   ],
   "source": [
    "kw1 = row_movie[0]\n",
    "kw2 = row_movie[1]\n",
    "kw3 = row_movie[2]\n",
    "kw4 = row_movie[3]\n",
    "\n",
    "# Converting to string\n",
    "#kw1 = kw1[0]\n",
    "#kw2 = kw2[0]\n",
    "#kw3 = kw3[0]\n",
    "#kw4 = kw4[0]\n",
    "\n",
    "kw1, kw2, kw3, kw4"
   ]
  },
  {
   "cell_type": "code",
   "execution_count": 80,
   "metadata": {},
   "outputs": [
    {
     "data": {
      "text/html": [
       "<div>\n",
       "<style scoped>\n",
       "    .dataframe tbody tr th:only-of-type {\n",
       "        vertical-align: middle;\n",
       "    }\n",
       "\n",
       "    .dataframe tbody tr th {\n",
       "        vertical-align: top;\n",
       "    }\n",
       "\n",
       "    .dataframe thead th {\n",
       "        text-align: right;\n",
       "    }\n",
       "</style>\n",
       "<table border=\"1\" class=\"dataframe\">\n",
       "  <thead>\n",
       "    <tr style=\"text-align: right;\">\n",
       "      <th></th>\n",
       "      <th>0</th>\n",
       "      <th>1</th>\n",
       "      <th>2</th>\n",
       "      <th>3</th>\n",
       "      <th>4</th>\n",
       "      <th>5</th>\n",
       "    </tr>\n",
       "    <tr>\n",
       "      <th>index</th>\n",
       "      <th></th>\n",
       "      <th></th>\n",
       "      <th></th>\n",
       "      <th></th>\n",
       "      <th></th>\n",
       "      <th></th>\n",
       "    </tr>\n",
       "  </thead>\n",
       "  <tbody>\n",
       "    <tr>\n",
       "      <th>6</th>\n",
       "      <td>saving the world</td>\n",
       "      <td>artificial intelligence</td>\n",
       "      <td>cyborg</td>\n",
       "      <td>killer robot</td>\n",
       "      <td>future</td>\n",
       "      <td>None</td>\n",
       "    </tr>\n",
       "    <tr>\n",
       "      <th>629</th>\n",
       "      <td>saving the world</td>\n",
       "      <td>artificial intelligence</td>\n",
       "      <td>father-son relationship</td>\n",
       "      <td>single parent</td>\n",
       "      <td>nasa</td>\n",
       "      <td>None</td>\n",
       "    </tr>\n",
       "    <tr>\n",
       "      <th>1392</th>\n",
       "      <td>saving the world</td>\n",
       "      <td>artificial intelligence</td>\n",
       "      <td>prophecy</td>\n",
       "      <td>san francisco</td>\n",
       "      <td>cyborg</td>\n",
       "      <td>None</td>\n",
       "    </tr>\n",
       "    <tr>\n",
       "      <th>1960</th>\n",
       "      <td>saving the world</td>\n",
       "      <td>date</td>\n",
       "      <td>prison</td>\n",
       "      <td>secret identity</td>\n",
       "      <td>fish</td>\n",
       "      <td>None</td>\n",
       "    </tr>\n",
       "    <tr>\n",
       "      <th>2160</th>\n",
       "      <td>saving the world</td>\n",
       "      <td>dc comics</td>\n",
       "      <td>superhero</td>\n",
       "      <td>based on comic book</td>\n",
       "      <td>surrealism</td>\n",
       "      <td>None</td>\n",
       "    </tr>\n",
       "  </tbody>\n",
       "</table>\n",
       "</div>"
      ],
      "text/plain": [
       "                      0                        1                        2  \\\n",
       "index                                                                       \n",
       "6      saving the world  artificial intelligence                   cyborg   \n",
       "629    saving the world  artificial intelligence  father-son relationship   \n",
       "1392   saving the world  artificial intelligence                 prophecy   \n",
       "1960   saving the world                     date                   prison   \n",
       "2160   saving the world                dc comics                superhero   \n",
       "\n",
       "                         3           4     5  \n",
       "index                                         \n",
       "6             killer robot      future  None  \n",
       "629          single parent        nasa  None  \n",
       "1392         san francisco      cyborg  None  \n",
       "1960       secret identity        fish  None  \n",
       "2160   based on comic book  surrealism  None  "
      ]
     },
     "execution_count": 80,
     "metadata": {},
     "output_type": "execute_result"
    }
   ],
   "source": [
    "# Filtering movies by matching keywords\n",
    "match_1 = new[(new[0] == kw1) | (new[1] == kw1) | (new[2] == kw1) | (new[3] == kw1) & ((new[0] == kw2) | (new[1] == kw2) | (new[2] == kw2) | (new[3] == kw2)) & ((new[0] == kw3) | (new[1] == kw3) | (new[2] == kw3) | (new[3] == kw3)) | (new[0] == kw4) | (new[1] == kw4) | (new[2] == kw4) | (new[3] == kw4) ]\n",
    "\n",
    "match_1.head()"
   ]
  },
  {
   "cell_type": "code",
   "execution_count": 81,
   "metadata": {},
   "outputs": [
    {
     "data": {
      "text/html": [
       "<div>\n",
       "<style scoped>\n",
       "    .dataframe tbody tr th:only-of-type {\n",
       "        vertical-align: middle;\n",
       "    }\n",
       "\n",
       "    .dataframe tbody tr th {\n",
       "        vertical-align: top;\n",
       "    }\n",
       "\n",
       "    .dataframe thead th {\n",
       "        text-align: right;\n",
       "    }\n",
       "</style>\n",
       "<table border=\"1\" class=\"dataframe\">\n",
       "  <thead>\n",
       "    <tr style=\"text-align: right;\">\n",
       "      <th></th>\n",
       "      <th>original_title</th>\n",
       "      <th>keywords</th>\n",
       "      <th>0</th>\n",
       "      <th>1</th>\n",
       "      <th>2</th>\n",
       "      <th>3</th>\n",
       "      <th>4</th>\n",
       "      <th>5</th>\n",
       "    </tr>\n",
       "    <tr>\n",
       "      <th>index</th>\n",
       "      <th></th>\n",
       "      <th></th>\n",
       "      <th></th>\n",
       "      <th></th>\n",
       "      <th></th>\n",
       "      <th></th>\n",
       "      <th></th>\n",
       "      <th></th>\n",
       "    </tr>\n",
       "  </thead>\n",
       "  <tbody>\n",
       "    <tr>\n",
       "      <th>6</th>\n",
       "      <td>Terminator Genisys</td>\n",
       "      <td>saving the world,artificial intelligence,cybor...</td>\n",
       "      <td>saving the world</td>\n",
       "      <td>artificial intelligence</td>\n",
       "      <td>cyborg</td>\n",
       "      <td>killer robot</td>\n",
       "      <td>future</td>\n",
       "      <td>None</td>\n",
       "    </tr>\n",
       "    <tr>\n",
       "      <th>629</th>\n",
       "      <td>Interstellar</td>\n",
       "      <td>saving the world,artificial intelligence,fathe...</td>\n",
       "      <td>saving the world</td>\n",
       "      <td>artificial intelligence</td>\n",
       "      <td>father-son relationship</td>\n",
       "      <td>single parent</td>\n",
       "      <td>nasa</td>\n",
       "      <td>None</td>\n",
       "    </tr>\n",
       "    <tr>\n",
       "      <th>1392</th>\n",
       "      <td>Terminator Salvation</td>\n",
       "      <td>saving the world,artificial intelligence,proph...</td>\n",
       "      <td>saving the world</td>\n",
       "      <td>artificial intelligence</td>\n",
       "      <td>prophecy</td>\n",
       "      <td>san francisco</td>\n",
       "      <td>cyborg</td>\n",
       "      <td>None</td>\n",
       "    </tr>\n",
       "    <tr>\n",
       "      <th>1960</th>\n",
       "      <td>Megamind</td>\n",
       "      <td>saving the world,date,prison,secret identity,fish</td>\n",
       "      <td>saving the world</td>\n",
       "      <td>date</td>\n",
       "      <td>prison</td>\n",
       "      <td>secret identity</td>\n",
       "      <td>fish</td>\n",
       "      <td>None</td>\n",
       "    </tr>\n",
       "    <tr>\n",
       "      <th>2160</th>\n",
       "      <td>Justice League: Crisis on Two Earths</td>\n",
       "      <td>saving the world,dc comics,superhero,based on ...</td>\n",
       "      <td>saving the world</td>\n",
       "      <td>dc comics</td>\n",
       "      <td>superhero</td>\n",
       "      <td>based on comic book</td>\n",
       "      <td>surrealism</td>\n",
       "      <td>None</td>\n",
       "    </tr>\n",
       "  </tbody>\n",
       "</table>\n",
       "</div>"
      ],
      "text/plain": [
       "                             original_title  \\\n",
       "index                                         \n",
       "6                        Terminator Genisys   \n",
       "629                            Interstellar   \n",
       "1392                   Terminator Salvation   \n",
       "1960                               Megamind   \n",
       "2160   Justice League: Crisis on Two Earths   \n",
       "\n",
       "                                                keywords                 0  \\\n",
       "index                                                                        \n",
       "6      saving the world,artificial intelligence,cybor...  saving the world   \n",
       "629    saving the world,artificial intelligence,fathe...  saving the world   \n",
       "1392   saving the world,artificial intelligence,proph...  saving the world   \n",
       "1960   saving the world,date,prison,secret identity,fish  saving the world   \n",
       "2160   saving the world,dc comics,superhero,based on ...  saving the world   \n",
       "\n",
       "                             1                        2                    3  \\\n",
       "index                                                                          \n",
       "6      artificial intelligence                   cyborg         killer robot   \n",
       "629    artificial intelligence  father-son relationship        single parent   \n",
       "1392   artificial intelligence                 prophecy        san francisco   \n",
       "1960                      date                   prison      secret identity   \n",
       "2160                 dc comics                superhero  based on comic book   \n",
       "\n",
       "                4     5  \n",
       "index                    \n",
       "6          future  None  \n",
       "629          nasa  None  \n",
       "1392       cyborg  None  \n",
       "1960         fish  None  \n",
       "2160   surrealism  None  "
      ]
     },
     "execution_count": 81,
     "metadata": {},
     "output_type": "execute_result"
    }
   ],
   "source": [
    "# merging both dataframes on primarykey = index\n",
    "new_df = pd.merge(combination, match_1, how='inner', left_on=['index'], right_on=['index'])\n",
    "new_df.head()"
   ]
  },
  {
   "cell_type": "code",
   "execution_count": 82,
   "metadata": {},
   "outputs": [
    {
     "name": "stdout",
     "output_type": "stream",
     "text": [
      "Top 5 recommended movies are: \n"
     ]
    },
    {
     "data": {
      "text/plain": [
       "['Interstellar',\n",
       " 'Terminator Salvation',\n",
       " 'Megamind',\n",
       " 'Justice League: Crisis on Two Earths',\n",
       " 'The Matrix']"
      ]
     },
     "execution_count": 82,
     "metadata": {},
     "output_type": "execute_result"
    }
   ],
   "source": [
    "suggested_movies = []\n",
    "for i in new_df['original_title']:\n",
    "    if i == movie:                       # To remove the actual movie itself [another efficient approach to drop column index]\n",
    "        continue\n",
    "    suggested_movies.append(i)\n",
    "    \n",
    "print('Top 5 recommended movies are: ')\n",
    "suggested_movies[:5]                                    # Displaying the top 5 list items"
   ]
  },
  {
   "cell_type": "markdown",
   "metadata": {},
   "source": [
    "**This recommendation system covers genres of movies that best match with your movie search**"
   ]
  },
  {
   "cell_type": "markdown",
   "metadata": {},
   "source": [
    "## A Simple Movie Recommender"
   ]
  },
  {
   "cell_type": "code",
   "execution_count": 83,
   "metadata": {},
   "outputs": [
    {
     "name": "stderr",
     "output_type": "stream",
     "text": [
      "D:\\Users\\User\\Anaconda3\\lib\\site-packages\\fuzzywuzzy\\fuzz.py:11: UserWarning: Using slow pure-python SequenceMatcher. Install python-Levenshtein to remove this warning\n",
      "  warnings.warn('Using slow pure-python SequenceMatcher. Install python-Levenshtein to remove this warning')\n"
     ]
    }
   ],
   "source": [
    "from fuzzywuzzy import fuzz\n",
    "\n",
    "def movie_recommender(movie):\n",
    "    # loading the Dataset again\n",
    "    df = pd.read_csv('tmdb-movies.csv')\n",
    "\n",
    "    movies_suggestion = movie\n",
    "\n",
    "    for i in range(len(df)):                                                            # String matching\n",
    "        sim_score = fuzz.partial_ratio(movies_suggestion, df['original_title'][i])\n",
    "        if sim_score >= 90:\n",
    "            #suggested.append(df['original_title'][i])                                  # Appending each suggestion into list\n",
    "            print(df['original_title'][i])\n"
   ]
  },
  {
   "cell_type": "code",
   "execution_count": 84,
   "metadata": {},
   "outputs": [
    {
     "name": "stdout",
     "output_type": "stream",
     "text": [
      "Furious 7\n",
      "Fast & Furious\n",
      "F\n",
      "The Fast and the Furious\n",
      "Kung Fu Panda: Secrets of the Furious Five\n",
      "2 Fast 2 Furious\n",
      "Turbo Charged Prelude to 2 Fast 2 Furious\n",
      "Fast & Furious 6\n",
      "The Fast and the Furious: Tokyo Drift\n"
     ]
    }
   ],
   "source": [
    "movie_recommender('Furious')"
   ]
  },
  {
   "cell_type": "markdown",
   "metadata": {},
   "source": [
    "**This recommendation system will recommend movie names that match your search term with the movie titles**"
   ]
  },
  {
   "cell_type": "markdown",
   "metadata": {},
   "source": [
    "<a id='word'></a>\n",
    "# WordCloud Generation"
   ]
  },
  {
   "cell_type": "code",
   "execution_count": 85,
   "metadata": {},
   "outputs": [
    {
     "name": "stdout",
     "output_type": "stream",
     "text": [
      "Enter the movie name (WARNING CASE SENSITIVE): Spectre\n",
      "\n",
      "\n",
      "YOU HAVE SUCCESSFULLY ENTERED MOVIE NAME! \n",
      "DISPLAYING WORDCLOUD IN 3 2 1 !!!!!\n"
     ]
    }
   ],
   "source": [
    "movie = str(input('Enter the movie name (WARNING CASE SENSITIVE): '))\n",
    "\n",
    "# To check whether df is empty or not\n",
    "while combination[combination['original_title'] == movie]['keywords'].empty is True:\n",
    "    movie = str(input('INVALID! Enter movie name again (WARNING CASE SENSITIVE): '))\n",
    "\n",
    "print('\\n\\nYOU HAVE SUCCESSFULLY ENTERED MOVIE NAME! ')\n",
    "print('DISPLAYING WORDCLOUD IN 3 2 1 !!!!!')"
   ]
  },
  {
   "cell_type": "code",
   "execution_count": 86,
   "metadata": {},
   "outputs": [
    {
     "data": {
      "text/plain": [
       "['spy,based on novel,secret agent,sequel,james bond']"
      ]
     },
     "execution_count": 86,
     "metadata": {},
     "output_type": "execute_result"
    }
   ],
   "source": [
    "text = combination[combination['original_title'] == movie]['keywords'].tolist()\n",
    "text"
   ]
  },
  {
   "cell_type": "code",
   "execution_count": 87,
   "metadata": {},
   "outputs": [],
   "source": [
    "def ConvertToStr(input_seq, seperator):\n",
    "    \n",
    "    # Join all the strings in list\n",
    "    final_str = seperator.join(input_seq)\n",
    "    return final_str\n",
    "\n",
    "seperator = '|'\n",
    "text = ConvertToStr(text, seperator)"
   ]
  },
  {
   "cell_type": "code",
   "execution_count": 88,
   "metadata": {
    "scrolled": true
   },
   "outputs": [
    {
     "name": "stdout",
     "output_type": "stream",
     "text": [
      "WORDCLOUD for Movie  Spectre is\n"
     ]
    },
    {
     "data": {
      "image/png": "[encoded data removed]",
      "text/plain": [
       "<Figure size 432x288 with 1 Axes>"
      ]
     },
     "metadata": {
      "needs_background": "light"
     },
     "output_type": "display_data"
    },
    {
     "data": {
      "image/png": "[encoded data removed]",
      "text/plain": [
       "<Figure size 432x288 with 1 Axes>"
      ]
     },
     "metadata": {
      "needs_background": "light"
     },
     "output_type": "display_data"
    }
   ],
   "source": [
    "# Using textual keywords for wordcloud generation\n",
    "\n",
    "from os import path\n",
    "from PIL import Image\n",
    "import numpy as np\n",
    "import matplotlib.pyplot as plt\n",
    "import os\n",
    "\n",
    "from wordcloud import WordCloud, STOPWORDS\n",
    "\n",
    "# get data directory (using getcwd() is needed to support running example in generated IPython notebook)\n",
    "d = path.dirname(__file__) if \"__file__\" in locals() else os.getcwd()\n",
    "\n",
    "# read the mask image\n",
    "# taken from\n",
    "# http://www.stencilry.org/stencils/movies/alice%20in%20wonderland/255fk.jpg\n",
    "spectre_mask = np.array(Image.open(path.join(d, \"spectre_mask.jpg\")))\n",
    "\n",
    "stopwords = set(STOPWORDS)\n",
    "stopwords.add(\"said\")\n",
    "\n",
    "wc = WordCloud(background_color=\"black\", max_words=2000, mask=spectre_mask,\n",
    "               stopwords=stopwords, contour_width=3, contour_color='steelblue')\n",
    "\n",
    "# generate word cloud\n",
    "wc.generate(text)\n",
    "\n",
    "# store to file\n",
    "wc.to_file(path.join(d, \"spectre.png\"))\n",
    "\n",
    "\n",
    "print('WORDCLOUD for Movie ', movie + ' is')\n",
    "\n",
    "# show\n",
    "plt.imshow(wc, interpolation='bilinear')\n",
    "plt.axis(\"off\")\n",
    "plt.figure()\n",
    "plt.imshow(spectre_mask, cmap=plt.cm.gray, interpolation='bilinear')\n",
    "plt.axis(\"off\")\n",
    "plt.show()"
   ]
  },
  {
   "cell_type": "markdown",
   "metadata": {},
   "source": [
    "<a id='conclusions'></a>\n",
    "## Conclusions\n",
    "\n",
    "\n",
    "\n",
    "The first research question **\"What were the Top 5 Genres throughout the years?\"** has shown useful results, as the most popular genre turned out to be **Drama**. This data could be extremey useful for the 'Production Companies', because now they know which type of movies tend to be more popular among the masses and this could help them to drive more potential customers.\n",
    "\n",
    "The second research question **\"How did the amount of movies produced changed over time?\"** gave a well defined increasing trend for movies released. The graph also shows that a peak was attained in the year 2011 for the most movies released. Also according to Wikipedia, **Film critic Scout Tafoya considers 2011 as the best year for cinema.** \n",
    "\n",
    "The third research question **\"What is the Average Running Time Of All the Movies?\"** shows an accurate result of approximately 106 minutes. This is also evident from the histogram which is plotted against Running Time and Number Of Movies.\n",
    "\n",
    "The fourth research question **\"How does the budget change throughout the years?\"** shows quite useful results to the users because users can observe that throughout the years the budget has been increasing and suddenly skyrockets in the year 2011, which is considered as the best year for cinema according to Wikipedia. In 2011, **Pirates of the Caribbean: On Stranger Tides** is the maximum budget movie till this day, with a maximum budget of 380 Million Dollars USD.\n",
    "\n",
    "The fifth research question **\"What should be an appropriate budget for a movie to succeed?\"** has shown surprising results. Some useful deductions which are clearly evident from the graph are not necessary for a movie to become popular and succeed even if it has a higher budget and vice versa.\n",
    "\n",
    "\n",
    "\n",
    "\n",
    "### Conclusively, the limitations which one has to consider are that, there many entries which were missing (NaN) had been removed from the dataset so the accuracy of the dataset has been significantly reduced and this will greatly affect the results. Also the results obtained like Movies Popularity are only for educational purpose and many other factors are needed to be kept in mind in order to treat them as generalization. \n"
   ]
  },
  {
   "cell_type": "code",
   "execution_count": null,
   "metadata": {},
   "outputs": [],
   "source": []
  }
 ],
 "metadata": {
  "kernelspec": {
   "display_name": "Python 3 (ipykernel)",
   "language": "python",
   "name": "python3"
  },
  "language_info": {
   "codemirror_mode": {
    "name": "ipython",
    "version": 3
   },
   "file_extension": ".py",
   "mimetype": "text/x-python",
   "name": "python",
   "nbconvert_exporter": "python",
   "pygments_lexer": "ipython3",
   "version": "3.13.2"
  }
 },
 "nbformat": 4,
 "nbformat_minor": 4
}
